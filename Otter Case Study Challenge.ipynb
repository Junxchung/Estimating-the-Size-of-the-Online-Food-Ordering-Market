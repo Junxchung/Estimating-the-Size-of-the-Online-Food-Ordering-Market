{
 "cells": [
  {
   "cell_type": "code",
   "execution_count": 1,
   "metadata": {},
   "outputs": [],
   "source": [
    "import pandas as pd"
   ]
  },
  {
   "cell_type": "code",
   "execution_count": 2,
   "metadata": {},
   "outputs": [],
   "source": [
    "data = pd.read_csv('css_public_all_ofos_locations.csv', \n",
    "                   sep = chr(1), \n",
    "                   low_memory = False)"
   ]
  },
  {
   "cell_type": "code",
   "execution_count": 3,
   "metadata": {},
   "outputs": [
    {
     "data": {
      "text/html": [
       "<div>\n",
       "<style scoped>\n",
       "    .dataframe tbody tr th:only-of-type {\n",
       "        vertical-align: middle;\n",
       "    }\n",
       "\n",
       "    .dataframe tbody tr th {\n",
       "        vertical-align: top;\n",
       "    }\n",
       "\n",
       "    .dataframe thead th {\n",
       "        text-align: right;\n",
       "    }\n",
       "</style>\n",
       "<table border=\"1\" class=\"dataframe\">\n",
       "  <thead>\n",
       "    <tr style=\"text-align: right;\">\n",
       "      <th></th>\n",
       "      <th>restaurant_id</th>\n",
       "      <th>name</th>\n",
       "      <th>platform</th>\n",
       "      <th>sub_platform</th>\n",
       "      <th>latitude</th>\n",
       "      <th>longitude</th>\n",
       "      <th>city</th>\n",
       "      <th>country</th>\n",
       "      <th>active</th>\n",
       "      <th>standardized_name</th>\n",
       "      <th>restaurant_chain</th>\n",
       "      <th>delivery_radius</th>\n",
       "      <th>geom</th>\n",
       "    </tr>\n",
       "  </thead>\n",
       "  <tbody>\n",
       "    <tr>\n",
       "      <th>0</th>\n",
       "      <td>9744</td>\n",
       "      <td>Loco Coco</td>\n",
       "      <td>caviar</td>\n",
       "      <td>NaN</td>\n",
       "      <td>40.765004</td>\n",
       "      <td>-73.965961</td>\n",
       "      <td>NaN</td>\n",
       "      <td>US</td>\n",
       "      <td>TRUE</td>\n",
       "      <td>loco_coco</td>\n",
       "      <td>NaN</td>\n",
       "      <td>NaN</td>\n",
       "      <td>NaN</td>\n",
       "    </tr>\n",
       "    <tr>\n",
       "      <th>1</th>\n",
       "      <td>4903</td>\n",
       "      <td>Musubi</td>\n",
       "      <td>caviar</td>\n",
       "      <td>NaN</td>\n",
       "      <td>45.504641</td>\n",
       "      <td>-122.643806</td>\n",
       "      <td>NaN</td>\n",
       "      <td>US</td>\n",
       "      <td>FALSE</td>\n",
       "      <td>musubi</td>\n",
       "      <td>NaN</td>\n",
       "      <td>NaN</td>\n",
       "      <td>NaN</td>\n",
       "    </tr>\n",
       "    <tr>\n",
       "      <th>2</th>\n",
       "      <td>4723</td>\n",
       "      <td>The Bakers' Lounge</td>\n",
       "      <td>caviar</td>\n",
       "      <td>NaN</td>\n",
       "      <td>38.924559</td>\n",
       "      <td>-76.990115</td>\n",
       "      <td>NaN</td>\n",
       "      <td>US</td>\n",
       "      <td>FALSE</td>\n",
       "      <td>the_bakers_lounge</td>\n",
       "      <td>NaN</td>\n",
       "      <td>NaN</td>\n",
       "      <td>NaN</td>\n",
       "    </tr>\n",
       "    <tr>\n",
       "      <th>3</th>\n",
       "      <td>4128</td>\n",
       "      <td>Parm - Battery Park City</td>\n",
       "      <td>caviar</td>\n",
       "      <td>NaN</td>\n",
       "      <td>40.71418</td>\n",
       "      <td>-74.015568</td>\n",
       "      <td>NaN</td>\n",
       "      <td>US</td>\n",
       "      <td>TRUE</td>\n",
       "      <td>parm_-_battery_park_city</td>\n",
       "      <td>NaN</td>\n",
       "      <td>NaN</td>\n",
       "      <td>NaN</td>\n",
       "    </tr>\n",
       "    <tr>\n",
       "      <th>4</th>\n",
       "      <td>5690</td>\n",
       "      <td>Derek Test Merchant</td>\n",
       "      <td>caviar</td>\n",
       "      <td>NaN</td>\n",
       "      <td>1</td>\n",
       "      <td>2</td>\n",
       "      <td>NaN</td>\n",
       "      <td>US</td>\n",
       "      <td>FALSE</td>\n",
       "      <td>derek_test_merchant</td>\n",
       "      <td>NaN</td>\n",
       "      <td>NaN</td>\n",
       "      <td>NaN</td>\n",
       "    </tr>\n",
       "    <tr>\n",
       "      <th>5</th>\n",
       "      <td>2827</td>\n",
       "      <td>The Plant Cafe - California &amp; Pine (FiDi)</td>\n",
       "      <td>caviar</td>\n",
       "      <td>NaN</td>\n",
       "      <td>37.792829</td>\n",
       "      <td>-122.397881</td>\n",
       "      <td>NaN</td>\n",
       "      <td>US</td>\n",
       "      <td>FALSE</td>\n",
       "      <td>the_plant_cafe_-_california_pine_fidi</td>\n",
       "      <td>NaN</td>\n",
       "      <td>NaN</td>\n",
       "      <td>NaN</td>\n",
       "    </tr>\n",
       "    <tr>\n",
       "      <th>6</th>\n",
       "      <td>4850</td>\n",
       "      <td>Minton's</td>\n",
       "      <td>caviar</td>\n",
       "      <td>NaN</td>\n",
       "      <td>40.804677</td>\n",
       "      <td>-73.952299</td>\n",
       "      <td>NaN</td>\n",
       "      <td>US</td>\n",
       "      <td>FALSE</td>\n",
       "      <td>minton_s</td>\n",
       "      <td>NaN</td>\n",
       "      <td>NaN</td>\n",
       "      <td>NaN</td>\n",
       "    </tr>\n",
       "    <tr>\n",
       "      <th>7</th>\n",
       "      <td>6301</td>\n",
       "      <td>Brazilian Bowl - Albany Park</td>\n",
       "      <td>caviar</td>\n",
       "      <td>NaN</td>\n",
       "      <td>41.968618</td>\n",
       "      <td>-87.708681</td>\n",
       "      <td>NaN</td>\n",
       "      <td>US</td>\n",
       "      <td>FALSE</td>\n",
       "      <td>brazilian_bowl_-_albany_park</td>\n",
       "      <td>NaN</td>\n",
       "      <td>NaN</td>\n",
       "      <td>NaN</td>\n",
       "    </tr>\n",
       "    <tr>\n",
       "      <th>8</th>\n",
       "      <td>9006</td>\n",
       "      <td>Gourmet Palace China Bistro</td>\n",
       "      <td>caviar</td>\n",
       "      <td>NaN</td>\n",
       "      <td>34.164525</td>\n",
       "      <td>-118.414288</td>\n",
       "      <td>NaN</td>\n",
       "      <td>US</td>\n",
       "      <td>TRUE</td>\n",
       "      <td>gourmet_palace_china_bistro</td>\n",
       "      <td>NaN</td>\n",
       "      <td>NaN</td>\n",
       "      <td>NaN</td>\n",
       "    </tr>\n",
       "    <tr>\n",
       "      <th>9</th>\n",
       "      <td>6208</td>\n",
       "      <td>Liberty Burger - Keller</td>\n",
       "      <td>caviar</td>\n",
       "      <td>NaN</td>\n",
       "      <td>32.969041</td>\n",
       "      <td>-96.820323</td>\n",
       "      <td>NaN</td>\n",
       "      <td>US</td>\n",
       "      <td>TRUE</td>\n",
       "      <td>liberty_burger_-_keller</td>\n",
       "      <td>NaN</td>\n",
       "      <td>NaN</td>\n",
       "      <td>NaN</td>\n",
       "    </tr>\n",
       "  </tbody>\n",
       "</table>\n",
       "</div>"
      ],
      "text/plain": [
       "  restaurant_id                                       name platform  \\\n",
       "0          9744                                  Loco Coco   caviar   \n",
       "1          4903                                     Musubi   caviar   \n",
       "2          4723                         The Bakers' Lounge   caviar   \n",
       "3          4128                   Parm - Battery Park City   caviar   \n",
       "4          5690                        Derek Test Merchant   caviar   \n",
       "5          2827  The Plant Cafe - California & Pine (FiDi)   caviar   \n",
       "6          4850                                   Minton's   caviar   \n",
       "7          6301               Brazilian Bowl - Albany Park   caviar   \n",
       "8          9006                Gourmet Palace China Bistro   caviar   \n",
       "9          6208                    Liberty Burger - Keller   caviar   \n",
       "\n",
       "  sub_platform   latitude    longitude city country active  \\\n",
       "0          NaN  40.765004   -73.965961  NaN      US   TRUE   \n",
       "1          NaN  45.504641  -122.643806  NaN      US  FALSE   \n",
       "2          NaN  38.924559   -76.990115  NaN      US  FALSE   \n",
       "3          NaN   40.71418   -74.015568  NaN      US   TRUE   \n",
       "4          NaN          1            2  NaN      US  FALSE   \n",
       "5          NaN  37.792829  -122.397881  NaN      US  FALSE   \n",
       "6          NaN  40.804677   -73.952299  NaN      US  FALSE   \n",
       "7          NaN  41.968618   -87.708681  NaN      US  FALSE   \n",
       "8          NaN  34.164525  -118.414288  NaN      US   TRUE   \n",
       "9          NaN  32.969041   -96.820323  NaN      US   TRUE   \n",
       "\n",
       "                       standardized_name restaurant_chain delivery_radius  \\\n",
       "0                              loco_coco              NaN             NaN   \n",
       "1                                 musubi              NaN             NaN   \n",
       "2                      the_bakers_lounge              NaN             NaN   \n",
       "3               parm_-_battery_park_city              NaN             NaN   \n",
       "4                    derek_test_merchant              NaN             NaN   \n",
       "5  the_plant_cafe_-_california_pine_fidi              NaN             NaN   \n",
       "6                               minton_s              NaN             NaN   \n",
       "7           brazilian_bowl_-_albany_park              NaN             NaN   \n",
       "8            gourmet_palace_china_bistro              NaN             NaN   \n",
       "9                liberty_burger_-_keller              NaN             NaN   \n",
       "\n",
       "   geom  \n",
       "0   NaN  \n",
       "1   NaN  \n",
       "2   NaN  \n",
       "3   NaN  \n",
       "4   NaN  \n",
       "5   NaN  \n",
       "6   NaN  \n",
       "7   NaN  \n",
       "8   NaN  \n",
       "9   NaN  "
      ]
     },
     "execution_count": 3,
     "metadata": {},
     "output_type": "execute_result"
    }
   ],
   "source": [
    "data.head(10)"
   ]
  },
  {
   "cell_type": "code",
   "execution_count": 4,
   "metadata": {},
   "outputs": [
    {
     "data": {
      "text/plain": [
       "count                   644089\n",
       "unique                  578742\n",
       "top       ,USD,[[\"\"open: 12:00\n",
       "freq                        42\n",
       "Name: restaurant_id, dtype: object"
      ]
     },
     "execution_count": 4,
     "metadata": {},
     "output_type": "execute_result"
    }
   ],
   "source": [
    "data['restaurant_id'].describe()"
   ]
  },
  {
   "cell_type": "code",
   "execution_count": 5,
   "metadata": {},
   "outputs": [
    {
     "data": {
      "text/plain": [
       "count     644086\n",
       "unique    419800\n",
       "top       Subway\n",
       "freq        8554\n",
       "Name: name, dtype: object"
      ]
     },
     "execution_count": 5,
     "metadata": {},
     "output_type": "execute_result"
    }
   ],
   "source": [
    "data['name'].describe()"
   ]
  },
  {
   "cell_type": "code",
   "execution_count": 6,
   "metadata": {},
   "outputs": [
    {
     "data": {
      "text/plain": [
       "count       644087\n",
       "unique          46\n",
       "top       doordash\n",
       "freq        354553\n",
       "Name: platform, dtype: object"
      ]
     },
     "execution_count": 6,
     "metadata": {},
     "output_type": "execute_result"
    }
   ],
   "source": [
    "data['platform'].describe()"
   ]
  },
  {
   "cell_type": "code",
   "execution_count": 7,
   "metadata": {},
   "outputs": [
    {
     "data": {
      "text/plain": [
       "count       599311\n",
       "unique          30\n",
       "top       doordash\n",
       "freq        354553\n",
       "Name: sub_platform, dtype: object"
      ]
     },
     "execution_count": 7,
     "metadata": {},
     "output_type": "execute_result"
    }
   ],
   "source": [
    "data['sub_platform'].describe()"
   ]
  },
  {
   "cell_type": "code",
   "execution_count": 8,
   "metadata": {
    "scrolled": true
   },
   "outputs": [
    {
     "data": {
      "text/plain": [
       " close: 14:00\"\"]                                                                                                                                                                                       1\n",
       " [\"\"open: 19:00                                                                                                                                                                                        1\n",
       "[[\"open: 12:00, close: 21:00\"], [\"open: 12:00, close: 20:30\"], [\"open: 12:00, close: 20:30\"], [\"open: 12:00, close: 20:30\"], [\"open: 12:00, close: 20:30\"], [\"open: 12:00, close: 20:30\"], []]         1\n",
       " [\"\"open: 16:00                                                                                                                                                                                        1\n",
       " [\"\"open: 15:00                                                                                                                                                                                        1\n",
       " [\"\"open: 21:00                                                                                                                                                                                        1\n",
       " [\"\"open: 12:00                                                                                                                                                                                        1\n",
       " [\"\"open: 13:00                                                                                                                                                                                        2\n",
       " [\"\"open: 17:00                                                                                                                                                                                        2\n",
       " [\"\"open: 18:00                                                                                                                                                                                        2\n",
       " close: 22:30\"\"]                                                                                                                                                                                       2\n",
       " close: 19:30\"\"]                                                                                                                                                                                       3\n",
       " close: 18:00\"\"]                                                                                                                                                                                       3\n",
       " close: 17:00\"\"]                                                                                                                                                                                       3\n",
       "FALSE                                                                                                                                                                                                  4\n",
       " close: 19:00\"\"]                                                                                                                                                                                       4\n",
       " close: 13:30\"\"]                                                                                                                                                                                       4\n",
       " close: 20:30\"\"]                                                                                                                                                                                       7\n",
       " close: 21:30\"\"]                                                                                                                                                                                       7\n",
       " close: 23:00\"\"]                                                                                                                                                                                       9\n",
       "TRUE                                                                                                                                                                                                  12\n",
       " close: 00:00\"\"]                                                                                                                                                                                      14\n",
       " close: 22:00\"\"]                                                                                                                                                                                      15\n",
       " []                                                                                                                                                                                                   23\n",
       " close: 20:00\"\"]                                                                                                                                                                                      28\n",
       " close: 21:00\"\"]                                                                                                                                                                                      45\n",
       "NaN                                                                                                                                                                                                44778\n",
       "ubereats                                                                                                                                                                                           65741\n",
       "grubhub                                                                                                                                                                                            68579\n",
       "restaurant                                                                                                                                                                                        110242\n",
       "doordash                                                                                                                                                                                          354553\n",
       "Name: sub_platform, dtype: int64"
      ]
     },
     "execution_count": 8,
     "metadata": {},
     "output_type": "execute_result"
    }
   ],
   "source": [
    "data['sub_platform'].value_counts(dropna = False, ascending = True)"
   ]
  },
  {
   "cell_type": "code",
   "execution_count": 9,
   "metadata": {},
   "outputs": [
    {
     "data": {
      "text/plain": [
       "restaurant_id         object\n",
       "name                  object\n",
       "platform              object\n",
       "sub_platform          object\n",
       "latitude              object\n",
       "longitude             object\n",
       "city                  object\n",
       "country               object\n",
       "active                object\n",
       "standardized_name     object\n",
       "restaurant_chain      object\n",
       "delivery_radius       object\n",
       "geom                 float64\n",
       "dtype: object"
      ]
     },
     "execution_count": 9,
     "metadata": {},
     "output_type": "execute_result"
    }
   ],
   "source": [
    "data.dtypes"
   ]
  },
  {
   "cell_type": "code",
   "execution_count": 10,
   "metadata": {},
   "outputs": [
    {
     "data": {
      "text/plain": [
       "NaN            587893\n",
       "Los Angeles      1837\n",
       "New York         1630\n",
       "Houston          1237\n",
       "Chicago          1170\n",
       "                ...  \n",
       "Amherst             1\n",
       "VERADALE            1\n",
       "CREVE COEUR         1\n",
       "MADISON             1\n",
       "PERRINE             1\n",
       "Name: city, Length: 3061, dtype: int64"
      ]
     },
     "execution_count": 10,
     "metadata": {},
     "output_type": "execute_result"
    }
   ],
   "source": [
    "data['city'].value_counts(dropna = False)"
   ]
  },
  {
   "cell_type": "code",
   "execution_count": 11,
   "metadata": {},
   "outputs": [
    {
     "data": {
      "text/plain": [
       "5.99                     1\n",
       " [\"\"open: 06:00          1\n",
       " [\"\"open: 12:30          1\n",
       " [\"\"open: 16:00          1\n",
       " [\"\"open: 15:00          1\n",
       " close: 17:30\"\"]         1\n",
       " [\"\"open: 18:00          1\n",
       " [\"\"open: 12:00          1\n",
       " [\"\"open: 21:00          1\n",
       " close: 17:00\"\"]         2\n",
       " close: 19:30\"\"]         2\n",
       " [\"\"open: 13:00          2\n",
       " close: 22:30\"\"]         2\n",
       " close: 18:00\"\"]         2\n",
       " [\"\"open: 17:00          3\n",
       " close: 19:00\"\"]         3\n",
       " close: 13:30\"\"]         4\n",
       " close: 14:00\"\"]         4\n",
       " close: 21:30\"\"]         6\n",
       " close: 23:00\"\"]         7\n",
       " close: 20:30\"\"]         7\n",
       " close: 00:00\"\"]        17\n",
       " close: 22:00\"\"]        18\n",
       "NaN                     18\n",
       "FALSE                   23\n",
       " close: 20:00\"\"]        29\n",
       " close: 21:00\"\"]        40\n",
       "US                  643891\n",
       "Name: country, dtype: int64"
      ]
     },
     "execution_count": 11,
     "metadata": {},
     "output_type": "execute_result"
    }
   ],
   "source": [
    "data['country'].value_counts(dropna = False, ascending = True)"
   ]
  },
  {
   "cell_type": "code",
   "execution_count": 12,
   "metadata": {},
   "outputs": [
    {
     "data": {
      "text/plain": [
       "andre_s_bistro_bar                          1\n",
       "19                                          1\n",
       "toyama_japanese_restaurant                  1\n",
       "41                                          1\n",
       "24                                          1\n",
       "46                                          1\n",
       "7                                           1\n",
       "midici_the_neapolitan_pizza_company         1\n",
       " close: 20:30\"\"]]\"                          1\n",
       "22                                          1\n",
       "5.99                                        1\n",
       "2                                           1\n",
       "36                                          1\n",
       " close: 17:30\"\"]]\"                          1\n",
       "the_late_night_spot                         1\n",
       "rock_star_burger                            1\n",
       "20                                          1\n",
       "blue_j_bar_lounge                           1\n",
       "arrecife_sea_food_truck                     1\n",
       "3                                           1\n",
       "1                                           1\n",
       "trillo_s_street_tacos                       1\n",
       "6                                           2\n",
       " close: 22:30\"\"]]\"                          2\n",
       " close: 19:00\"\"]]\"                          2\n",
       "8                                           2\n",
       " close: 18:00\"\"]]\"                          2\n",
       " close: 19:30\"\"]]\"                          2\n",
       " close: 21:30\"\"]]\"                          3\n",
       " close: 23:00\"\"]]\"                          6\n",
       " close: 22:00\"\"]]\"                          6\n",
       " close: 00:00\"\"]]\"                          8\n",
       " close: 20:00\"\"]]\"                          9\n",
       " close: 21:00\"\"]]\"                         17\n",
       "TRUE                                       86\n",
       "NaN                                    643920\n",
       "Name: restaurant_chain, dtype: int64"
      ]
     },
     "execution_count": 12,
     "metadata": {},
     "output_type": "execute_result"
    }
   ],
   "source": [
    "data['restaurant_chain'].value_counts(dropna = False, ascending = True)"
   ]
  },
  {
   "cell_type": "code",
   "execution_count": 13,
   "metadata": {},
   "outputs": [
    {
     "data": {
      "text/plain": [
       "6276                  1\n",
       "11250                 1\n",
       "8900                  1\n",
       "chester_fried         1\n",
       "3                     1\n",
       "                  ...  \n",
       "5000              24948\n",
       "6000              27990\n",
       "8000              44233\n",
       "7000             102714\n",
       "NaN              289428\n",
       "Name: delivery_radius, Length: 534, dtype: int64"
      ]
     },
     "execution_count": 13,
     "metadata": {},
     "output_type": "execute_result"
    }
   ],
   "source": [
    "data['delivery_radius'].value_counts(dropna = False, ascending = True)"
   ]
  },
  {
   "cell_type": "code",
   "execution_count": null,
   "metadata": {},
   "outputs": [],
   "source": []
  }
 ],
 "metadata": {
  "kernelspec": {
   "display_name": "Python 3",
   "language": "python",
   "name": "python3"
  },
  "language_info": {
   "codemirror_mode": {
    "name": "ipython",
    "version": 3
   },
   "file_extension": ".py",
   "mimetype": "text/x-python",
   "name": "python",
   "nbconvert_exporter": "python",
   "pygments_lexer": "ipython3",
   "version": "3.7.6"
  }
 },
 "nbformat": 4,
 "nbformat_minor": 4
}
