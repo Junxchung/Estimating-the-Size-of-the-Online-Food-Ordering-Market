{
 "cells": [
  {
   "cell_type": "code",
   "execution_count": 1,
   "metadata": {},
   "outputs": [],
   "source": [
    "import pandas as pd"
   ]
  },
  {
   "cell_type": "code",
   "execution_count": 2,
   "metadata": {},
   "outputs": [],
   "source": [
    "data = pd.read_csv('css_public_all_ofos_locations.csv', \n",
    "                   sep = chr(1), \n",
    "                   low_memory = False)"
   ]
  },
  {
   "cell_type": "code",
   "execution_count": 3,
   "metadata": {},
   "outputs": [
    {
     "data": {
      "text/html": [
       "<div>\n",
       "<style scoped>\n",
       "    .dataframe tbody tr th:only-of-type {\n",
       "        vertical-align: middle;\n",
       "    }\n",
       "\n",
       "    .dataframe tbody tr th {\n",
       "        vertical-align: top;\n",
       "    }\n",
       "\n",
       "    .dataframe thead th {\n",
       "        text-align: right;\n",
       "    }\n",
       "</style>\n",
       "<table border=\"1\" class=\"dataframe\">\n",
       "  <thead>\n",
       "    <tr style=\"text-align: right;\">\n",
       "      <th></th>\n",
       "      <th>restaurant_id</th>\n",
       "      <th>name</th>\n",
       "      <th>platform</th>\n",
       "      <th>sub_platform</th>\n",
       "      <th>latitude</th>\n",
       "      <th>longitude</th>\n",
       "      <th>city</th>\n",
       "      <th>country</th>\n",
       "      <th>active</th>\n",
       "      <th>standardized_name</th>\n",
       "      <th>restaurant_chain</th>\n",
       "      <th>delivery_radius</th>\n",
       "      <th>geom</th>\n",
       "    </tr>\n",
       "  </thead>\n",
       "  <tbody>\n",
       "    <tr>\n",
       "      <th>0</th>\n",
       "      <td>9744</td>\n",
       "      <td>Loco Coco</td>\n",
       "      <td>caviar</td>\n",
       "      <td>NaN</td>\n",
       "      <td>40.765004</td>\n",
       "      <td>-73.965961</td>\n",
       "      <td>NaN</td>\n",
       "      <td>US</td>\n",
       "      <td>TRUE</td>\n",
       "      <td>loco_coco</td>\n",
       "      <td>NaN</td>\n",
       "      <td>NaN</td>\n",
       "      <td>NaN</td>\n",
       "    </tr>\n",
       "    <tr>\n",
       "      <th>1</th>\n",
       "      <td>4903</td>\n",
       "      <td>Musubi</td>\n",
       "      <td>caviar</td>\n",
       "      <td>NaN</td>\n",
       "      <td>45.504641</td>\n",
       "      <td>-122.643806</td>\n",
       "      <td>NaN</td>\n",
       "      <td>US</td>\n",
       "      <td>FALSE</td>\n",
       "      <td>musubi</td>\n",
       "      <td>NaN</td>\n",
       "      <td>NaN</td>\n",
       "      <td>NaN</td>\n",
       "    </tr>\n",
       "    <tr>\n",
       "      <th>2</th>\n",
       "      <td>4723</td>\n",
       "      <td>The Bakers' Lounge</td>\n",
       "      <td>caviar</td>\n",
       "      <td>NaN</td>\n",
       "      <td>38.924559</td>\n",
       "      <td>-76.990115</td>\n",
       "      <td>NaN</td>\n",
       "      <td>US</td>\n",
       "      <td>FALSE</td>\n",
       "      <td>the_bakers_lounge</td>\n",
       "      <td>NaN</td>\n",
       "      <td>NaN</td>\n",
       "      <td>NaN</td>\n",
       "    </tr>\n",
       "  </tbody>\n",
       "</table>\n",
       "</div>"
      ],
      "text/plain": [
       "  restaurant_id                name platform sub_platform   latitude  \\\n",
       "0          9744           Loco Coco   caviar          NaN  40.765004   \n",
       "1          4903              Musubi   caviar          NaN  45.504641   \n",
       "2          4723  The Bakers' Lounge   caviar          NaN  38.924559   \n",
       "\n",
       "     longitude city country active  standardized_name restaurant_chain  \\\n",
       "0   -73.965961  NaN      US   TRUE          loco_coco              NaN   \n",
       "1  -122.643806  NaN      US  FALSE             musubi              NaN   \n",
       "2   -76.990115  NaN      US  FALSE  the_bakers_lounge              NaN   \n",
       "\n",
       "  delivery_radius  geom  \n",
       "0             NaN   NaN  \n",
       "1             NaN   NaN  \n",
       "2             NaN   NaN  "
      ]
     },
     "execution_count": 3,
     "metadata": {},
     "output_type": "execute_result"
    }
   ],
   "source": [
    "data.head(3)"
   ]
  },
  {
   "cell_type": "code",
   "execution_count": 14,
   "metadata": {},
   "outputs": [
    {
     "name": "stdout",
     "output_type": "stream",
     "text": [
      "<class 'pandas.core.frame.DataFrame'>\n",
      "RangeIndex: 644089 entries, 0 to 644088\n",
      "Data columns (total 13 columns):\n",
      " #   Column             Non-Null Count   Dtype  \n",
      "---  ------             --------------   -----  \n",
      " 0   restaurant_id      644089 non-null  object \n",
      " 1   name               644086 non-null  object \n",
      " 2   platform           644087 non-null  object \n",
      " 3   sub_platform       599311 non-null  object \n",
      " 4   latitude           644086 non-null  object \n",
      " 5   longitude          644070 non-null  object \n",
      " 6   city               56196 non-null   object \n",
      " 7   country            644071 non-null  object \n",
      " 8   active             643867 non-null  object \n",
      " 9   standardized_name  643872 non-null  object \n",
      " 10  restaurant_chain   169 non-null     object \n",
      " 11  delivery_radius    354661 non-null  object \n",
      " 12  geom               0 non-null       float64\n",
      "dtypes: float64(1), object(12)\n",
      "memory usage: 63.9+ MB\n"
     ]
    }
   ],
   "source": [
    "data.info()"
   ]
  },
  {
   "cell_type": "code",
   "execution_count": null,
   "metadata": {},
   "outputs": [],
   "source": [
    "### PSEUDOCODE \n",
    "\n",
    "# look up the ones with missing name and fill it in, simple \n",
    "# for those missing lat or long values, which isn't a lot, just research and fill it in\n",
    "# do the same with country values, although a glance at those values might reveal most of them, if not all, are US so it won't matter for a model anyways\n",
    "# take an individual look at those that are lableled chains and explore these a little\n",
    "\n",
    "# secondary priorities are to look more deeply at sub platform and delivery radius"
   ]
  },
  {
   "cell_type": "code",
   "execution_count": null,
   "metadata": {},
   "outputs": [],
   "source": []
  },
  {
   "cell_type": "code",
   "execution_count": 16,
   "metadata": {},
   "outputs": [
    {
     "name": "stdout",
     "output_type": "stream",
     "text": [
      "0     True\n",
      "1    False\n",
      "2    False\n",
      "3     True\n",
      "4     True\n",
      "Name: duplicate, dtype: bool\n"
     ]
    }
   ],
   "source": [
    "data['duplicate'] = data.duplicated(subset = ['latitude','longitude'], keep = False) \n",
    "\n",
    "# keep = False labels everything that was duplicated as True (there's a duplicate of it in the data set)\n",
    "# creating another column is possible with keep = first if you want to leave the first duplicate labeled as an original just for a simple aggregation\n",
    "\n",
    "print(data['duplicate'].head())"
   ]
  }
 ],
 "metadata": {
  "kernelspec": {
   "display_name": "Python 3",
   "language": "python",
   "name": "python3"
  },
  "language_info": {
   "codemirror_mode": {
    "name": "ipython",
    "version": 3
   },
   "file_extension": ".py",
   "mimetype": "text/x-python",
   "name": "python",
   "nbconvert_exporter": "python",
   "pygments_lexer": "ipython3",
   "version": "3.7.6"
  }
 },
 "nbformat": 4,
 "nbformat_minor": 4
}
