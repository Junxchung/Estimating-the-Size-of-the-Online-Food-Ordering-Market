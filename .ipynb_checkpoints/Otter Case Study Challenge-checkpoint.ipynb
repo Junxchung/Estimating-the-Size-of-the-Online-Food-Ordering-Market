{
 "cells": [
  {
   "cell_type": "markdown",
   "metadata": {},
   "source": [
    "# USE A BETTER NAME THAN THIS Otter Case Study Challenge"
   ]
  },
  {
   "cell_type": "markdown",
   "metadata": {},
   "source": [
    "## Importing and Exploring the Data"
   ]
  },
  {
   "cell_type": "code",
   "execution_count": 1,
   "metadata": {},
   "outputs": [],
   "source": [
    "import pandas as pd"
   ]
  },
  {
   "cell_type": "code",
   "execution_count": 2,
   "metadata": {},
   "outputs": [],
   "source": [
    "original_dataset = pd.read_csv('css_public_all_ofos_locations.csv', \n",
    "                   sep = chr(1), \n",
    "                   low_memory = False)"
   ]
  },
  {
   "cell_type": "code",
   "execution_count": 3,
   "metadata": {},
   "outputs": [
    {
     "data": {
      "text/html": [
       "<div>\n",
       "<style scoped>\n",
       "    .dataframe tbody tr th:only-of-type {\n",
       "        vertical-align: middle;\n",
       "    }\n",
       "\n",
       "    .dataframe tbody tr th {\n",
       "        vertical-align: top;\n",
       "    }\n",
       "\n",
       "    .dataframe thead th {\n",
       "        text-align: right;\n",
       "    }\n",
       "</style>\n",
       "<table border=\"1\" class=\"dataframe\">\n",
       "  <thead>\n",
       "    <tr style=\"text-align: right;\">\n",
       "      <th></th>\n",
       "      <th>restaurant_id</th>\n",
       "      <th>name</th>\n",
       "      <th>platform</th>\n",
       "      <th>sub_platform</th>\n",
       "      <th>latitude</th>\n",
       "      <th>longitude</th>\n",
       "      <th>city</th>\n",
       "      <th>country</th>\n",
       "      <th>active</th>\n",
       "      <th>standardized_name</th>\n",
       "      <th>restaurant_chain</th>\n",
       "      <th>delivery_radius</th>\n",
       "      <th>geom</th>\n",
       "    </tr>\n",
       "  </thead>\n",
       "  <tbody>\n",
       "    <tr>\n",
       "      <th>0</th>\n",
       "      <td>9744</td>\n",
       "      <td>Loco Coco</td>\n",
       "      <td>caviar</td>\n",
       "      <td>NaN</td>\n",
       "      <td>40.765004</td>\n",
       "      <td>-73.965961</td>\n",
       "      <td>NaN</td>\n",
       "      <td>US</td>\n",
       "      <td>TRUE</td>\n",
       "      <td>loco_coco</td>\n",
       "      <td>NaN</td>\n",
       "      <td>NaN</td>\n",
       "      <td>NaN</td>\n",
       "    </tr>\n",
       "    <tr>\n",
       "      <th>1</th>\n",
       "      <td>4903</td>\n",
       "      <td>Musubi</td>\n",
       "      <td>caviar</td>\n",
       "      <td>NaN</td>\n",
       "      <td>45.504641</td>\n",
       "      <td>-122.643806</td>\n",
       "      <td>NaN</td>\n",
       "      <td>US</td>\n",
       "      <td>FALSE</td>\n",
       "      <td>musubi</td>\n",
       "      <td>NaN</td>\n",
       "      <td>NaN</td>\n",
       "      <td>NaN</td>\n",
       "    </tr>\n",
       "    <tr>\n",
       "      <th>2</th>\n",
       "      <td>4723</td>\n",
       "      <td>The Bakers' Lounge</td>\n",
       "      <td>caviar</td>\n",
       "      <td>NaN</td>\n",
       "      <td>38.924559</td>\n",
       "      <td>-76.990115</td>\n",
       "      <td>NaN</td>\n",
       "      <td>US</td>\n",
       "      <td>FALSE</td>\n",
       "      <td>the_bakers_lounge</td>\n",
       "      <td>NaN</td>\n",
       "      <td>NaN</td>\n",
       "      <td>NaN</td>\n",
       "    </tr>\n",
       "  </tbody>\n",
       "</table>\n",
       "</div>"
      ],
      "text/plain": [
       "  restaurant_id                name platform sub_platform   latitude  \\\n",
       "0          9744           Loco Coco   caviar          NaN  40.765004   \n",
       "1          4903              Musubi   caviar          NaN  45.504641   \n",
       "2          4723  The Bakers' Lounge   caviar          NaN  38.924559   \n",
       "\n",
       "     longitude city country active  standardized_name restaurant_chain  \\\n",
       "0   -73.965961  NaN      US   TRUE          loco_coco              NaN   \n",
       "1  -122.643806  NaN      US  FALSE             musubi              NaN   \n",
       "2   -76.990115  NaN      US  FALSE  the_bakers_lounge              NaN   \n",
       "\n",
       "  delivery_radius  geom  \n",
       "0             NaN   NaN  \n",
       "1             NaN   NaN  \n",
       "2             NaN   NaN  "
      ]
     },
     "execution_count": 3,
     "metadata": {},
     "output_type": "execute_result"
    }
   ],
   "source": [
    "original_dataset.head(3)"
   ]
  },
  {
   "cell_type": "code",
   "execution_count": 4,
   "metadata": {},
   "outputs": [
    {
     "name": "stdout",
     "output_type": "stream",
     "text": [
      "<class 'pandas.core.frame.DataFrame'>\n",
      "RangeIndex: 644089 entries, 0 to 644088\n",
      "Data columns (total 13 columns):\n",
      " #   Column             Non-Null Count   Dtype  \n",
      "---  ------             --------------   -----  \n",
      " 0   restaurant_id      644089 non-null  object \n",
      " 1   name               644086 non-null  object \n",
      " 2   platform           644087 non-null  object \n",
      " 3   sub_platform       599311 non-null  object \n",
      " 4   latitude           644086 non-null  object \n",
      " 5   longitude          644070 non-null  object \n",
      " 6   city               56196 non-null   object \n",
      " 7   country            644071 non-null  object \n",
      " 8   active             643867 non-null  object \n",
      " 9   standardized_name  643872 non-null  object \n",
      " 10  restaurant_chain   169 non-null     object \n",
      " 11  delivery_radius    354661 non-null  object \n",
      " 12  geom               0 non-null       float64\n",
      "dtypes: float64(1), object(12)\n",
      "memory usage: 63.9+ MB\n"
     ]
    }
   ],
   "source": [
    "original_dataset.info()"
   ]
  },
  {
   "cell_type": "code",
   "execution_count": 5,
   "metadata": {},
   "outputs": [
    {
     "name": "stdout",
     "output_type": "stream",
     "text": [
      "The provided data has 644089 rows and 13 columns of restaurant data.\n"
     ]
    }
   ],
   "source": [
    "print('The provided data has {0} rows and {1} columns of restaurant data.'.format(\n",
    "    original_dataset.shape[0], \n",
    "    original_dataset.shape[1])\n",
    "     )"
   ]
  },
  {
   "cell_type": "code",
   "execution_count": 6,
   "metadata": {},
   "outputs": [],
   "source": [
    "### PSEUDOCODE \n",
    "\n",
    "# are there some visualizations i can include here?\n",
    "# don't make visualizations needlessly, doesn't make sense unless it's actually useful\n",
    "\n",
    "# AT THE END OF THE PROJECT WHAT IF I USED BASEMAP TO MAP THE BEFORE AND AFTER\n",
    "# AND I CAN ALSO JUST CREATE A MAP WHERE ALL THE DATA POINTS ACTUALLY EXIST ON\n",
    "# THINK MORE ABOUT THIS, THERE'S ROOM FOR SOMETHING REALLY VALUABLE WITH GRAPHING ACTUAL GEOLOGICAL POINTS"
   ]
  },
  {
   "cell_type": "code",
   "execution_count": 7,
   "metadata": {},
   "outputs": [],
   "source": [
    "### PSEUDOCODE \n",
    "\n",
    "# DONE    look up the ones with missing name and fill it in, simple \n",
    "# DONE    for those missing lat \n",
    "# DONE    or long values, which isn't a lot, just research and fill it in\n",
    "# do the same with country values, although a glance at those values might reveal most of them, if not all, are US so it won't matter for a model anyways\n",
    "# take an individual look at those that are lableled chains and explore these a little\n",
    "\n",
    "# secondary priorities are to look more deeply at sub platform and delivery radius\n",
    "\n",
    "\n",
    "# AT THE END OF THIS PROJECT I WANT TO IMPLEMENT A ML ALGO ON A CLEAN DATASET AND THEN COMPARE IT TO THE 'CORRECT' VALUE THAT I DETERMINE WITH SIMPLE LABELING FROM LAT AND LONG DATA"
   ]
  },
  {
   "cell_type": "markdown",
   "metadata": {},
   "source": [
    "### Creating a New Dataset"
   ]
  },
  {
   "cell_type": "code",
   "execution_count": 8,
   "metadata": {},
   "outputs": [],
   "source": [
    "# to keep the original provided dataset unaltered\n",
    "# I am making a copy of the data to use for data cleaning, pre-processing, etc\n",
    "\n",
    "data = original_dataset.copy()"
   ]
  },
  {
   "cell_type": "markdown",
   "metadata": {},
   "source": [
    "I want to check to see if I can manually insert the missing names of the 3 rows missing values in the 'name' column."
   ]
  },
  {
   "cell_type": "code",
   "execution_count": 9,
   "metadata": {},
   "outputs": [
    {
     "name": "stdout",
     "output_type": "stream",
     "text": [
      "                    restaurant_id name      platform sub_platform latitude  \\\n",
      "34794                        None  NaN  delivery.com          NaN      NaN   \n",
      "236516  Recreation & Wellness Ctr  NaN           NaN          NaN      NaN   \n",
      "316021                  Suite 112  NaN           NaN          NaN      NaN   \n",
      "\n",
      "       longitude city country active standardized_name restaurant_chain  \\\n",
      "34794        NaN  NaN      US  FALSE               NaN              NaN   \n",
      "236516       NaN  NaN     NaN    NaN               NaN              NaN   \n",
      "316021       NaN  NaN     NaN    NaN               NaN              NaN   \n",
      "\n",
      "       delivery_radius  geom  \n",
      "34794              NaN   NaN  \n",
      "236516             NaN   NaN  \n",
      "316021             NaN   NaN  \n"
     ]
    }
   ],
   "source": [
    "# using simple boolean indexing to examine the rows with missing values for the 'name' column\n",
    "\n",
    "print(data[data['name'].isnull()])"
   ]
  },
  {
   "cell_type": "markdown",
   "metadata": {},
   "source": [
    "#### Deleting Rows with Little to No Value\n",
    "\n",
    "Because there is almost no other data I can use, such as latitude and longitude data, to determine what these restaurants may be, I am deleting these rows of data entirely from the dataset."
   ]
  },
  {
   "cell_type": "code",
   "execution_count": 10,
   "metadata": {},
   "outputs": [],
   "source": [
    "data.dropna(subset = ['name'], inplace = True)\n",
    "data.reset_index(inplace = True, drop = True)"
   ]
  },
  {
   "cell_type": "code",
   "execution_count": 11,
   "metadata": {},
   "outputs": [
    {
     "name": "stdout",
     "output_type": "stream",
     "text": [
      "The dataset now has 644086 rows and 13 columns of restaurant data.\n"
     ]
    }
   ],
   "source": [
    "print('The dataset now has {0} rows and {1} columns of restaurant data.'.format(\n",
    "    data.shape[0], \n",
    "    data.shape[1])\n",
    "     )"
   ]
  },
  {
   "cell_type": "markdown",
   "metadata": {},
   "source": [
    "#### Filling in Missing Latitude and Longitude Values"
   ]
  },
  {
   "cell_type": "code",
   "execution_count": 12,
   "metadata": {},
   "outputs": [
    {
     "name": "stdout",
     "output_type": "stream",
     "text": [
      "Empty DataFrame\n",
      "Columns: [restaurant_id, name, platform, sub_platform, latitude, longitude, city, country, active, standardized_name, restaurant_chain, delivery_radius, geom]\n",
      "Index: []\n"
     ]
    }
   ],
   "source": [
    "# checking what missing values may exist in the latitude column\n",
    "# using simple boolean indexing to examine the rows with missing values for the 'latitude' column\n",
    "\n",
    "print(data[data['latitude'].isnull()])"
   ]
  },
  {
   "cell_type": "markdown",
   "metadata": {},
   "source": [
    "It appears that getting rid of the rows where the value in the 'name' column was missing also removed the rows that were missing latitude data. "
   ]
  },
  {
   "cell_type": "code",
   "execution_count": 13,
   "metadata": {},
   "outputs": [
    {
     "name": "stdout",
     "output_type": "stream",
     "text": [
      "Only a few of the rows are displayed for easier viewing.\n",
      "\n",
      "--------------------------------------------------------\n",
      "\n",
      "                                            restaurant_id name  \\\n",
      "139275                                    20 Hugus Alley\"  USD   \n",
      "187182                                           Ste 190\"  USD   \n",
      "194074                                           Ste 170\"  USD   \n",
      "201826  (b/t N P St & N Rhode Island Ave) in Logan Cir...  USD   \n",
      "204009                                           Ste 100\"  USD   \n",
      "\n",
      "                                                 platform sub_platform  \\\n",
      "139275  [[\"open: 12:00, close: 18:00\"], [\"open: 12:00,...         TRUE   \n",
      "187182                       [[], [], [], [], [], [], []]        FALSE   \n",
      "194074  [[\"open: 12:00, close: 21:00\"], [\"open: 12:00,...         TRUE   \n",
      "201826  [[\"open: 12:00, close: 21:30\"], [\"open: 12:00,...         TRUE   \n",
      "204009  [[\"open: 12:00, close: 18:30\"], [\"open: 12:00,...         TRUE   \n",
      "\n",
      "                             latitude longitude  city country active  \\\n",
      "139275                      sugarfina       NaN  5.99     NaN     45   \n",
      "187182             ohjah_noodle_house       NaN  5.99     NaN     40   \n",
      "194074             novecento_pizzeria       NaN  5.99     NaN     50   \n",
      "201826  14th_street_cafe_asian_bistro       NaN  5.99     NaN     40   \n",
      "204009  straight_from_philly_steakout       NaN  5.99     NaN     45   \n",
      "\n",
      "       standardized_name restaurant_chain     delivery_radius  geom  \n",
      "139275               NaN               22  Los Angeles County   NaN  \n",
      "187182               NaN                8        Clark County   NaN  \n",
      "194074               NaN               24        Clark County   NaN  \n",
      "201826               NaN                1       United States   NaN  \n",
      "204009               NaN               20        Clark County   NaN  \n"
     ]
    }
   ],
   "source": [
    "# using the same method as above to examine the rows with missing values for the 'longitude' column\n",
    "\n",
    "print('Only a few of the rows are displayed for easier viewing.\\n')\n",
    "print('--------------------------------------------------------\\n')\n",
    "print(data[data['longitude'].isnull()][:5])    # remove the indexing to see all rows with missing 'longitude' values"
   ]
  },
  {
   "cell_type": "markdown",
   "metadata": {},
   "source": [
    "It appears that, for whatever reason, data was not input and/or collected properly for the data points above. The values within each column seem to be in the wrong place. However, I can simply:\n",
    "- Look these restaurants up on the internet\n",
    "- Fill in + replace the existing values with correct values\n",
    "\n",
    "#### Correct Information for Restaurants\n",
    "I'll be looking up the restaurants up by their names, which I am presuming are the values found in the 'latitude' column. I can confirm I am collecting information for the correct restaurants with the other information available (but misplaced) in the other columns.\n",
    "- Row 139275 (Sugarfina) [info](https://www.yelp.com/biz/sugarfina-pasadena-pasadena-2)\n",
    "- Row 187182 (Ohjah Nooodle House) [info](https://www.yelp.com/biz/ohjah-noodle-house-las-vegas-3)\n",
    "- Row 194074 (Novecento Pizzeria) [info](https://www.yelp.com/biz/novecento-pizzeria-las-vegas)\n",
    "- Row 201826 (14th St Cafe Asian Bistro) [info](https://www.yelp.com/biz/14th-st-cafe-asian-bistro-washington-2)\n",
    "- Row 204009 (Straight From Philly Steakout) [info](https://www.yelp.com/biz/straight-from-philly-steakout-henderson-3)\n",
    "- Row 229923 (Tumbao Buns - Downtown Miami) [info](https://www.yelp.com/biz/tumbao-buns-downtown-miami-miami-2)\n",
    "    - The address found on the Yelp page doesn't match with the one provided on the data set. This is most likely due to the fact that this restaurant is technically a food truck, a mobile restuarant that can have different locations. The correct address is listed [here](https://postmates.com/merchant/tumbao-buns-miami)\n",
    "- Row 250285 (Dunkin Donuts) [info](https://www.yelp.com/biz/dunkin-donuts-pompano-beach-7?osq=dunkin+donuts+locations)\n",
    "- Row 294759 (Dos Coyotes Border Cafe) [info](https://www.grubhub.com/restaurant/dos-coyotes-border-cafe-8519-bond-rd-ste-100-elk-grove/1244011)\n",
    "- Row 298938 (China One) [info](https://www.grubhub.com/restaurant/china-one-7080-n-durango-dr-ste-130-las-vegas/394082)\n",
    "- Row 302088 (Fat Boy) [info](https://www.yelp.com/biz/fat-boy-henderson-2)\n",
    "- Row 341276 (Au Bon Pain) [info](https://www.yelp.com/biz/au-bon-pain-chicago-14)\n",
    "- Row 344993 (Ohjah Noodle House 2) [info](https://www.grubhub.com/restaurant/ohjah-noodle-house-35-e-horizon-ridge-pkwy-ste-160-henderson/1121695)\n",
    "    - This may, interestingly, be the same as the other Ohjah Noodle House listed above. Investigate further.\n",
    "- Row 355632 (Cinnabon) [info](https://www.zomato.com/maricopa-county-az/scholtzskys-cinnabon-1-goodyear)\n",
    "- Row 379700 (Thailicious Authentic Thai & Vegan) [info](https://www.yelp.com/biz/thailicious-authentic-thai-and-vegan-henderson?osq=thailicious)\n",
    "- Row 391644 (Boss's Slow Smoked BBQ) [info](https://www.yelp.com/biz/bosss-slow-smoked-bbq-n-las-vegas)\n",
    "- Row 415759 (Buon Gusto Ristorante) [info](https://www.yelp.com/biz/buon-gusto-ristorante-henderson)"
   ]
  },
  {
   "cell_type": "markdown",
   "metadata": {},
   "source": [
    "A closer look at our actual data set shows that the rows of data above are not unique data points but instead are repeats of rows directly preceding them. "
   ]
  },
  {
   "cell_type": "code",
   "execution_count": 14,
   "metadata": {},
   "outputs": [
    {
     "name": "stdout",
     "output_type": "stream",
     "text": [
      "                               restaurant_id            name  \\\n",
      "250284  70f366b3-a6fd-4634-8e57-7364e8f23cd2  Dunkin' Donuts   \n",
      "250285                          Fl Turnpike\"             USD   \n",
      "\n",
      "                            platform sub_platform       latitude  \\\n",
      "250284                     postmates   restaurant    28.51478909   \n",
      "250285  [[], [], [], [], [], [], []]        FALSE  dunkin_donuts   \n",
      "\n",
      "           longitude  city country active standardized_name restaurant_chain  \\\n",
      "250284  -81.49956571   NaN      US    NaN               NaN              NaN   \n",
      "250285           NaN  5.99     NaN     40               NaN              NaN   \n",
      "\n",
      "       delivery_radius  geom  \n",
      "250284             NaN   NaN  \n",
      "250285   Orange County   NaN  \n"
     ]
    }
   ],
   "source": [
    "print(data.iloc[250284:250286,:])"
   ]
  },
  {
   "cell_type": "code",
   "execution_count": 15,
   "metadata": {},
   "outputs": [
    {
     "name": "stdout",
     "output_type": "stream",
     "text": [
      "Sugarfina\n",
      "Ohjah Noodle House\n",
      "Novecento Pizzeria\n",
      "14th Street Cafe Asian Bistro\n",
      "Straight From Philly Steakout\n",
      "Tumbao Buns\n",
      "Dunkin' Donuts\n",
      "Dos Coyotes Border Cafe\n",
      "China One\n",
      "Fat Boy\n",
      "Au Bon Pain\n",
      "Ohjah Noodle House #2\n",
      "Cinnabon\n",
      "Thailicious\n",
      "Boss's Slow Smoked BBQ\n",
      "Buon Gusto Ristorante\n"
     ]
    }
   ],
   "source": [
    "indices_missing_lat = [139275, 187182, 194074, \n",
    "                    201826, 204009, 229923, \n",
    "                    250285, 294759, 298938, \n",
    "                    302088, 341276, 344993, \n",
    "                    355632, 379700, 391644, 415759]\n",
    "\n",
    "for index in indices_missing_lat:\n",
    "    print(data.iloc[index - 1,1])"
   ]
  },
  {
   "cell_type": "markdown",
   "metadata": {},
   "source": [
    "The simple solution is to remove the rows missing 'longitude' values, as they represent duplicate entries."
   ]
  },
  {
   "cell_type": "code",
   "execution_count": 16,
   "metadata": {},
   "outputs": [],
   "source": [
    "data.dropna(subset = ['longitude'], inplace = True)\n",
    "data.reset_index(inplace = True, drop = True)"
   ]
  },
  {
   "cell_type": "code",
   "execution_count": 17,
   "metadata": {},
   "outputs": [
    {
     "name": "stdout",
     "output_type": "stream",
     "text": [
      "The dataset now has 644070 rows and 13 columns of restaurant data.\n"
     ]
    }
   ],
   "source": [
    "print('The dataset now has {0} rows and {1} columns of restaurant data.'.format(\n",
    "    data.shape[0], \n",
    "    data.shape[1])\n",
    "     )"
   ]
  },
  {
   "cell_type": "markdown",
   "metadata": {},
   "source": [
    "#### A Quick Glance at Country Values"
   ]
  },
  {
   "cell_type": "code",
   "execution_count": 31,
   "metadata": {},
   "outputs": [
    {
     "name": "stdout",
     "output_type": "stream",
     "text": [
      "<class 'pandas.core.frame.DataFrame'>\n",
      "RangeIndex: 644070 entries, 0 to 644069\n",
      "Data columns (total 13 columns):\n",
      " #   Column             Non-Null Count   Dtype  \n",
      "---  ------             --------------   -----  \n",
      " 0   restaurant_id      644070 non-null  object \n",
      " 1   name               644070 non-null  object \n",
      " 2   platform           644070 non-null  object \n",
      " 3   sub_platform       599295 non-null  object \n",
      " 4   latitude           644070 non-null  object \n",
      " 5   longitude          644070 non-null  object \n",
      " 6   city               56180 non-null   object \n",
      " 7   country            644070 non-null  object \n",
      " 8   active             643850 non-null  object \n",
      " 9   standardized_name  643872 non-null  object \n",
      " 10  restaurant_chain   154 non-null     object \n",
      " 11  delivery_radius    354645 non-null  object \n",
      " 12  geom               0 non-null       float64\n",
      "dtypes: float64(1), object(12)\n",
      "memory usage: 63.9+ MB\n"
     ]
    }
   ],
   "source": [
    "data.info()"
   ]
  },
  {
   "cell_type": "code",
   "execution_count": 35,
   "metadata": {},
   "outputs": [
    {
     "data": {
      "text/plain": [
       "count     644070\n",
       "unique        27\n",
       "top           US\n",
       "freq      643890\n",
       "Name: country, dtype: object"
      ]
     },
     "execution_count": 35,
     "metadata": {},
     "output_type": "execute_result"
    }
   ],
   "source": [
    "data['country'].describe()"
   ]
  },
  {
   "cell_type": "markdown",
   "metadata": {},
   "source": [
    "Most of the data points have 'US' listed in the 'country' column, so there would be value in examining the rows in which this is not the case."
   ]
  },
  {
   "cell_type": "code",
   "execution_count": 37,
   "metadata": {},
   "outputs": [
    {
     "data": {
      "text/html": [
       "<div>\n",
       "<style scoped>\n",
       "    .dataframe tbody tr th:only-of-type {\n",
       "        vertical-align: middle;\n",
       "    }\n",
       "\n",
       "    .dataframe tbody tr th {\n",
       "        vertical-align: top;\n",
       "    }\n",
       "\n",
       "    .dataframe thead th {\n",
       "        text-align: right;\n",
       "    }\n",
       "</style>\n",
       "<table border=\"1\" class=\"dataframe\">\n",
       "  <thead>\n",
       "    <tr style=\"text-align: right;\">\n",
       "      <th></th>\n",
       "      <th>restaurant_id</th>\n",
       "      <th>name</th>\n",
       "      <th>platform</th>\n",
       "      <th>sub_platform</th>\n",
       "      <th>latitude</th>\n",
       "      <th>longitude</th>\n",
       "      <th>city</th>\n",
       "      <th>country</th>\n",
       "      <th>active</th>\n",
       "      <th>standardized_name</th>\n",
       "      <th>restaurant_chain</th>\n",
       "      <th>delivery_radius</th>\n",
       "      <th>geom</th>\n",
       "    </tr>\n",
       "  </thead>\n",
       "  <tbody>\n",
       "    <tr>\n",
       "      <th>96549</th>\n",
       "      <td>,USD,[[\"\"open: 12:00</td>\n",
       "      <td>close: 20:30\"\"]</td>\n",
       "      <td>[\"\"open: 12:00</td>\n",
       "      <td>close: 20:30\"\"]</td>\n",
       "      <td>[\"\"open: 12:00</td>\n",
       "      <td>close: 20:30\"\"]</td>\n",
       "      <td>[\"\"open: 12:00</td>\n",
       "      <td>close: 20:30\"\"]</td>\n",
       "      <td>close: 20:30\"\"]</td>\n",
       "      <td>[\"\"open: 12:00</td>\n",
       "      <td>close: 19:30\"\"]]\"</td>\n",
       "      <td>fish_dish</td>\n",
       "      <td>NaN</td>\n",
       "    </tr>\n",
       "    <tr>\n",
       "      <th>96958</th>\n",
       "      <td>,USD,[[\"\"open: 11:30</td>\n",
       "      <td>close: 20:00\"\"]</td>\n",
       "      <td>[\"\"open: 11:30</td>\n",
       "      <td>close: 20:00\"\"]</td>\n",
       "      <td>[\"\"open: 11:30</td>\n",
       "      <td>close: 20:00\"\"]</td>\n",
       "      <td>[\"\"open: 11:30</td>\n",
       "      <td>close: 20:00\"\"]</td>\n",
       "      <td>close: 20:00\"\"]</td>\n",
       "      <td>[]]\"</td>\n",
       "      <td>TRUE</td>\n",
       "      <td>NaN</td>\n",
       "      <td>NaN</td>\n",
       "    </tr>\n",
       "    <tr>\n",
       "      <th>97841</th>\n",
       "      <td>,USD,[[\"\"open: 13:00</td>\n",
       "      <td>close: 23:00\"\"]</td>\n",
       "      <td>[\"\"open: 13:00</td>\n",
       "      <td>close: 23:00\"\"]</td>\n",
       "      <td>[\"\"open: 13:00</td>\n",
       "      <td>close: 23:00\"\"]</td>\n",
       "      <td>[\"\"open: 13:00</td>\n",
       "      <td>close: 23:00\"\"]</td>\n",
       "      <td>close: 00:00\"\"]</td>\n",
       "      <td>[\"\"open: 12:00</td>\n",
       "      <td>close: 23:00\"\"]]\"</td>\n",
       "      <td>woodland</td>\n",
       "      <td>NaN</td>\n",
       "    </tr>\n",
       "    <tr>\n",
       "      <th>104012</th>\n",
       "      <td>,USD,[[]</td>\n",
       "      <td>[]</td>\n",
       "      <td>[]</td>\n",
       "      <td>[]</td>\n",
       "      <td>[]</td>\n",
       "      <td>[]</td>\n",
       "      <td>[]]\"</td>\n",
       "      <td>FALSE</td>\n",
       "      <td>NaN</td>\n",
       "      <td>15049147544</td>\n",
       "      <td>NaN</td>\n",
       "      <td>45</td>\n",
       "      <td>NaN</td>\n",
       "    </tr>\n",
       "    <tr>\n",
       "      <th>104302</th>\n",
       "      <td>,USD,[[\"\"open: 17:00</td>\n",
       "      <td>close: 23:30\"\"]</td>\n",
       "      <td>[]</td>\n",
       "      <td>[\"\"open: 17:00</td>\n",
       "      <td>close: 23:00\"\"]</td>\n",
       "      <td>[\"\"open: 17:00</td>\n",
       "      <td>close: 23:00\"\"]</td>\n",
       "      <td>[\"\"open: 17:00</td>\n",
       "      <td>[]]\"</td>\n",
       "      <td>TRUE</td>\n",
       "      <td>the_late_night_spot</td>\n",
       "      <td>5.99</td>\n",
       "      <td>NaN</td>\n",
       "    </tr>\n",
       "    <tr>\n",
       "      <th>...</th>\n",
       "      <td>...</td>\n",
       "      <td>...</td>\n",
       "      <td>...</td>\n",
       "      <td>...</td>\n",
       "      <td>...</td>\n",
       "      <td>...</td>\n",
       "      <td>...</td>\n",
       "      <td>...</td>\n",
       "      <td>...</td>\n",
       "      <td>...</td>\n",
       "      <td>...</td>\n",
       "      <td>...</td>\n",
       "      <td>...</td>\n",
       "    </tr>\n",
       "    <tr>\n",
       "      <th>426413</th>\n",
       "      <td>,USD,[[\"\"open: 17:00</td>\n",
       "      <td>close: 19:00\"\"]</td>\n",
       "      <td>[\"\"open: 17:00</td>\n",
       "      <td>close: 19:00\"\"]</td>\n",
       "      <td>[\"\"open: 17:00</td>\n",
       "      <td>close: 19:00\"\"]</td>\n",
       "      <td>[\"\"open: 17:00</td>\n",
       "      <td>close: 19:00\"\"]</td>\n",
       "      <td>close: 21:30\"\"]</td>\n",
       "      <td>[]]\"</td>\n",
       "      <td>TRUE</td>\n",
       "      <td>NaN</td>\n",
       "      <td>NaN</td>\n",
       "    </tr>\n",
       "    <tr>\n",
       "      <th>428302</th>\n",
       "      <td>,USD,[[]</td>\n",
       "      <td>[]</td>\n",
       "      <td>[]</td>\n",
       "      <td>[]</td>\n",
       "      <td>[]</td>\n",
       "      <td>[]</td>\n",
       "      <td>[]]\"</td>\n",
       "      <td>FALSE</td>\n",
       "      <td>NaN</td>\n",
       "      <td>17025793017</td>\n",
       "      <td>NaN</td>\n",
       "      <td>55</td>\n",
       "      <td>NaN</td>\n",
       "    </tr>\n",
       "    <tr>\n",
       "      <th>431379</th>\n",
       "      <td>,USD,[[\"\"open: 14:00</td>\n",
       "      <td>close: 22:00\"\"]</td>\n",
       "      <td>[\"\"open: 14:00</td>\n",
       "      <td>close: 22:00\"\"]</td>\n",
       "      <td>[\"\"open: 14:00</td>\n",
       "      <td>close: 22:00\"\"]</td>\n",
       "      <td>[\"\"open: 14:00</td>\n",
       "      <td>close: 22:00\"\"]</td>\n",
       "      <td>close: 22:00\"\"]</td>\n",
       "      <td>[]]\"</td>\n",
       "      <td>TRUE</td>\n",
       "      <td>NaN</td>\n",
       "      <td>NaN</td>\n",
       "    </tr>\n",
       "    <tr>\n",
       "      <th>433563</th>\n",
       "      <td>,USD,[[]</td>\n",
       "      <td>[\"\"open: 17:00</td>\n",
       "      <td>close: 20:00\"\"]</td>\n",
       "      <td>[\"\"open: 17:00</td>\n",
       "      <td>close: 20:00\"\"]</td>\n",
       "      <td>[\"\"open: 18:30</td>\n",
       "      <td>close: 20:30\"\"]</td>\n",
       "      <td>[\"\"open: 17:00</td>\n",
       "      <td>[\"\"open: 17:00</td>\n",
       "      <td>close: 20:00\"\"]]\"</td>\n",
       "      <td>TRUE</td>\n",
       "      <td>NaN</td>\n",
       "      <td>NaN</td>\n",
       "    </tr>\n",
       "    <tr>\n",
       "      <th>440752</th>\n",
       "      <td>,USD,[[\"\"open: 11:00</td>\n",
       "      <td>close: 20:00\"\"]</td>\n",
       "      <td>[\"\"open: 11:00</td>\n",
       "      <td>close: 20:00\"\"]</td>\n",
       "      <td>[\"\"open: 11:00</td>\n",
       "      <td>close: 20:00\"\"]</td>\n",
       "      <td>[\"\"open: 11:00</td>\n",
       "      <td>close: 20:00\"\"]</td>\n",
       "      <td>close: 20:00\"\"]</td>\n",
       "      <td>[\"\"open: 12:30</td>\n",
       "      <td>close: 20:00\"\"]]\"</td>\n",
       "      <td>l_l_hawaiian_bbq</td>\n",
       "      <td>NaN</td>\n",
       "    </tr>\n",
       "  </tbody>\n",
       "</table>\n",
       "<p>180 rows × 13 columns</p>\n",
       "</div>"
      ],
      "text/plain": [
       "               restaurant_id              name          platform  \\\n",
       "96549   ,USD,[[\"\"open: 12:00   close: 20:30\"\"]    [\"\"open: 12:00   \n",
       "96958   ,USD,[[\"\"open: 11:30   close: 20:00\"\"]    [\"\"open: 11:30   \n",
       "97841   ,USD,[[\"\"open: 13:00   close: 23:00\"\"]    [\"\"open: 13:00   \n",
       "104012              ,USD,[[]                []                []   \n",
       "104302  ,USD,[[\"\"open: 17:00   close: 23:30\"\"]                []   \n",
       "...                      ...               ...               ...   \n",
       "426413  ,USD,[[\"\"open: 17:00   close: 19:00\"\"]    [\"\"open: 17:00   \n",
       "428302              ,USD,[[]                []                []   \n",
       "431379  ,USD,[[\"\"open: 14:00   close: 22:00\"\"]    [\"\"open: 14:00   \n",
       "433563              ,USD,[[]    [\"\"open: 17:00   close: 20:00\"\"]   \n",
       "440752  ,USD,[[\"\"open: 11:00   close: 20:00\"\"]    [\"\"open: 11:00   \n",
       "\n",
       "            sub_platform          latitude         longitude  \\\n",
       "96549    close: 20:30\"\"]    [\"\"open: 12:00   close: 20:30\"\"]   \n",
       "96958    close: 20:00\"\"]    [\"\"open: 11:30   close: 20:00\"\"]   \n",
       "97841    close: 23:00\"\"]    [\"\"open: 13:00   close: 23:00\"\"]   \n",
       "104012                []                []                []   \n",
       "104302    [\"\"open: 17:00   close: 23:00\"\"]    [\"\"open: 17:00   \n",
       "...                  ...               ...               ...   \n",
       "426413   close: 19:00\"\"]    [\"\"open: 17:00   close: 19:00\"\"]   \n",
       "428302                []                []                []   \n",
       "431379   close: 22:00\"\"]    [\"\"open: 14:00   close: 22:00\"\"]   \n",
       "433563    [\"\"open: 17:00   close: 20:00\"\"]    [\"\"open: 18:30   \n",
       "440752   close: 20:00\"\"]    [\"\"open: 11:00   close: 20:00\"\"]   \n",
       "\n",
       "                    city           country            active  \\\n",
       "96549     [\"\"open: 12:00   close: 20:30\"\"]   close: 20:30\"\"]   \n",
       "96958     [\"\"open: 11:30   close: 20:00\"\"]   close: 20:00\"\"]   \n",
       "97841     [\"\"open: 13:00   close: 23:00\"\"]   close: 00:00\"\"]   \n",
       "104012              []]\"             FALSE               NaN   \n",
       "104302   close: 23:00\"\"]    [\"\"open: 17:00              []]\"   \n",
       "...                  ...               ...               ...   \n",
       "426413    [\"\"open: 17:00   close: 19:00\"\"]   close: 21:30\"\"]   \n",
       "428302              []]\"             FALSE               NaN   \n",
       "431379    [\"\"open: 14:00   close: 22:00\"\"]   close: 22:00\"\"]   \n",
       "433563   close: 20:30\"\"]    [\"\"open: 17:00    [\"\"open: 17:00   \n",
       "440752    [\"\"open: 11:00   close: 20:00\"\"]   close: 20:00\"\"]   \n",
       "\n",
       "         standardized_name     restaurant_chain   delivery_radius  geom  \n",
       "96549       [\"\"open: 12:00    close: 19:30\"\"]]\"         fish_dish   NaN  \n",
       "96958                 []]\"                 TRUE               NaN   NaN  \n",
       "97841       [\"\"open: 12:00    close: 23:00\"\"]]\"          woodland   NaN  \n",
       "104012         15049147544                  NaN                45   NaN  \n",
       "104302                TRUE  the_late_night_spot              5.99   NaN  \n",
       "...                    ...                  ...               ...   ...  \n",
       "426413                []]\"                 TRUE               NaN   NaN  \n",
       "428302         17025793017                  NaN                55   NaN  \n",
       "431379                []]\"                 TRUE               NaN   NaN  \n",
       "433563   close: 20:00\"\"]]\"                 TRUE               NaN   NaN  \n",
       "440752      [\"\"open: 12:30    close: 20:00\"\"]]\"  l_l_hawaiian_bbq   NaN  \n",
       "\n",
       "[180 rows x 13 columns]"
      ]
     },
     "execution_count": 37,
     "metadata": {},
     "output_type": "execute_result"
    }
   ],
   "source": [
    "not_us_data = data[data['country'] != 'US']\n",
    "\n",
    "not_us_data"
   ]
  },
  {
   "cell_type": "markdown",
   "metadata": {},
   "source": [
    "It seems possible that the rows of data that don't state 'US' in the country column are also filled with data that was entered or collected incorrectly. \n",
    "\n",
    "Upon observation, there seems to be a mix of restaurant hours, names, delivery radii, booleans, and NaNs found throughout this data. "
   ]
  },
  {
   "cell_type": "code",
   "execution_count": 39,
   "metadata": {},
   "outputs": [
    {
     "data": {
      "text/plain": [
       "0.02794727281196143"
      ]
     },
     "execution_count": 39,
     "metadata": {},
     "output_type": "execute_result"
    }
   ],
   "source": [
    "((644070 - 643890) / 644070) * 100"
   ]
  },
  {
   "cell_type": "markdown",
   "metadata": {},
   "source": [
    "For the sake of time, because only 0.03% of the data is mislabeled as such, the appropriate solution at this time is to simply remove these data points."
   ]
  },
  {
   "cell_type": "code",
   "execution_count": 40,
   "metadata": {},
   "outputs": [
    {
     "name": "stdout",
     "output_type": "stream",
     "text": [
      "The dataset now has 643890 rows and 13 columns of restaurant data.\n"
     ]
    }
   ],
   "source": [
    "data = data[data['country'] == 'US']\n",
    "\n",
    "print('The dataset now has {0} rows and {1} columns of restaurant data.'.format(\n",
    "    data.shape[0], \n",
    "    data.shape[1])\n",
    "     )"
   ]
  },
  {
   "cell_type": "markdown",
   "metadata": {},
   "source": [
    "# pick up here to start examining latitude and longitude weird values"
   ]
  },
  {
   "cell_type": "code",
   "execution_count": 41,
   "metadata": {},
   "outputs": [
    {
     "data": {
      "text/plain": [
       "-90            1683\n",
       "40.76264579     101\n",
       "42.825685        80\n",
       "34.0397099       67\n",
       "35.27982         66\n",
       "               ... \n",
       "39.186713         1\n",
       "31.78534508       1\n",
       "40.8413658        1\n",
       "40.7472286        1\n",
       "37.6945273        1\n",
       "Name: latitude, Length: 544594, dtype: int64"
      ]
     },
     "execution_count": 41,
     "metadata": {},
     "output_type": "execute_result"
    }
   ],
   "source": [
    "data['latitude'].value_counts(dropna = False).sort_values(ascending = False)"
   ]
  },
  {
   "cell_type": "code",
   "execution_count": 29,
   "metadata": {},
   "outputs": [
    {
     "name": "stdout",
     "output_type": "stream",
     "text": [
      "  restaurant_id                      name platform sub_platform   latitude  \\\n",
      "0          9744                 Loco Coco   caviar          NaN  40.765004   \n",
      "1          4903                    Musubi   caviar          NaN  45.504641   \n",
      "2          4723        The Bakers' Lounge   caviar          NaN  38.924559   \n",
      "3          4128  Parm - Battery Park City   caviar          NaN   40.71418   \n",
      "4          5690       Derek Test Merchant   caviar          NaN          1   \n",
      "\n",
      "     longitude city country active         standardized_name restaurant_chain  \\\n",
      "0   -73.965961  NaN      US   TRUE                 loco_coco              NaN   \n",
      "1  -122.643806  NaN      US  FALSE                    musubi              NaN   \n",
      "2   -76.990115  NaN      US  FALSE         the_bakers_lounge              NaN   \n",
      "3   -74.015568  NaN      US   TRUE  parm_-_battery_park_city              NaN   \n",
      "4            2  NaN      US  FALSE       derek_test_merchant              NaN   \n",
      "\n",
      "  delivery_radius  geom  \n",
      "0             NaN   NaN  \n",
      "1             NaN   NaN  \n",
      "2             NaN   NaN  \n",
      "3             NaN   NaN  \n",
      "4             NaN   NaN  \n"
     ]
    }
   ],
   "source": [
    "lat_90 = data[data['latitude'] != -90]\n",
    "\n",
    "print(lat_90.head())"
   ]
  },
  {
   "cell_type": "code",
   "execution_count": 42,
   "metadata": {},
   "outputs": [
    {
     "data": {
      "text/plain": [
       "0               1722\n",
       "-73.96918505     101\n",
       "-118.298741      100\n",
       "-73.879458        80\n",
       "-118.2987956      67\n",
       "                ... \n",
       "-104.998558        1\n",
       "-118.072552        1\n",
       "-111.9398829       1\n",
       "-111.495763        1\n",
       "-80.098079         1\n",
       "Name: longitude, Length: 541745, dtype: int64"
      ]
     },
     "execution_count": 42,
     "metadata": {},
     "output_type": "execute_result"
    }
   ],
   "source": [
    "data['longitude'].value_counts(dropna = False).sort_values(ascending = False)"
   ]
  },
  {
   "cell_type": "code",
   "execution_count": 21,
   "metadata": {},
   "outputs": [
    {
     "data": {
      "text/html": [
       "<div>\n",
       "<style scoped>\n",
       "    .dataframe tbody tr th:only-of-type {\n",
       "        vertical-align: middle;\n",
       "    }\n",
       "\n",
       "    .dataframe tbody tr th {\n",
       "        vertical-align: top;\n",
       "    }\n",
       "\n",
       "    .dataframe thead th {\n",
       "        text-align: right;\n",
       "    }\n",
       "</style>\n",
       "<table border=\"1\" class=\"dataframe\">\n",
       "  <thead>\n",
       "    <tr style=\"text-align: right;\">\n",
       "      <th></th>\n",
       "      <th>restaurant_id</th>\n",
       "      <th>name</th>\n",
       "      <th>platform</th>\n",
       "      <th>sub_platform</th>\n",
       "      <th>latitude</th>\n",
       "      <th>longitude</th>\n",
       "      <th>city</th>\n",
       "      <th>country</th>\n",
       "      <th>active</th>\n",
       "      <th>standardized_name</th>\n",
       "      <th>restaurant_chain</th>\n",
       "      <th>delivery_radius</th>\n",
       "      <th>geom</th>\n",
       "    </tr>\n",
       "  </thead>\n",
       "  <tbody>\n",
       "  </tbody>\n",
       "</table>\n",
       "</div>"
      ],
      "text/plain": [
       "Empty DataFrame\n",
       "Columns: [restaurant_id, name, platform, sub_platform, latitude, longitude, city, country, active, standardized_name, restaurant_chain, delivery_radius, geom]\n",
       "Index: []"
      ]
     },
     "execution_count": 21,
     "metadata": {},
     "output_type": "execute_result"
    }
   ],
   "source": [
    "long_90 = data[data['longitude'] == -73.942663]\n",
    "\n",
    "long_90.head(10)"
   ]
  },
  {
   "cell_type": "markdown",
   "metadata": {},
   "source": [
    "## Creating My Target Column"
   ]
  },
  {
   "cell_type": "code",
   "execution_count": 22,
   "metadata": {},
   "outputs": [],
   "source": [
    "# data['duplicate'] = data.duplicated(subset = ['latitude','longitude'], keep = False) \n",
    "\n",
    "# # keep = False labels everything that was duplicated as True (there's a duplicate of it in the data set)\n",
    "# # creating another column is possible with keep = first if you want to leave the first duplicate labeled as an original just for a simple aggregation\n",
    "\n",
    "# print(data['duplicate'].head())"
   ]
  }
 ],
 "metadata": {
  "kernelspec": {
   "display_name": "Python 3",
   "language": "python",
   "name": "python3"
  },
  "language_info": {
   "codemirror_mode": {
    "name": "ipython",
    "version": 3
   },
   "file_extension": ".py",
   "mimetype": "text/x-python",
   "name": "python",
   "nbconvert_exporter": "python",
   "pygments_lexer": "ipython3",
   "version": "3.7.6"
  }
 },
 "nbformat": 4,
 "nbformat_minor": 4
}
