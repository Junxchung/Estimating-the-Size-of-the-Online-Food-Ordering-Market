{
 "cells": [
  {
   "cell_type": "markdown",
   "metadata": {},
   "source": [
    "# USE A BETTER NAME THAN THIS Otter Case Study Challenge"
   ]
  },
  {
   "cell_type": "markdown",
   "metadata": {},
   "source": [
    "### Importing the Data"
   ]
  },
  {
   "cell_type": "code",
   "execution_count": 1,
   "metadata": {},
   "outputs": [],
   "source": [
    "import pandas as pd"
   ]
  },
  {
   "cell_type": "code",
   "execution_count": 2,
   "metadata": {},
   "outputs": [],
   "source": [
    "original_dataset = pd.read_csv('css_public_all_ofos_locations.csv', \n",
    "                   sep = chr(1), \n",
    "                   low_memory = False)"
   ]
  },
  {
   "cell_type": "code",
   "execution_count": 3,
   "metadata": {},
   "outputs": [
    {
     "data": {
      "text/html": [
       "<div>\n",
       "<style scoped>\n",
       "    .dataframe tbody tr th:only-of-type {\n",
       "        vertical-align: middle;\n",
       "    }\n",
       "\n",
       "    .dataframe tbody tr th {\n",
       "        vertical-align: top;\n",
       "    }\n",
       "\n",
       "    .dataframe thead th {\n",
       "        text-align: right;\n",
       "    }\n",
       "</style>\n",
       "<table border=\"1\" class=\"dataframe\">\n",
       "  <thead>\n",
       "    <tr style=\"text-align: right;\">\n",
       "      <th></th>\n",
       "      <th>restaurant_id</th>\n",
       "      <th>name</th>\n",
       "      <th>platform</th>\n",
       "      <th>sub_platform</th>\n",
       "      <th>latitude</th>\n",
       "      <th>longitude</th>\n",
       "      <th>city</th>\n",
       "      <th>country</th>\n",
       "      <th>active</th>\n",
       "      <th>standardized_name</th>\n",
       "      <th>restaurant_chain</th>\n",
       "      <th>delivery_radius</th>\n",
       "      <th>geom</th>\n",
       "    </tr>\n",
       "  </thead>\n",
       "  <tbody>\n",
       "    <tr>\n",
       "      <th>0</th>\n",
       "      <td>9744</td>\n",
       "      <td>Loco Coco</td>\n",
       "      <td>caviar</td>\n",
       "      <td>NaN</td>\n",
       "      <td>40.765004</td>\n",
       "      <td>-73.965961</td>\n",
       "      <td>NaN</td>\n",
       "      <td>US</td>\n",
       "      <td>TRUE</td>\n",
       "      <td>loco_coco</td>\n",
       "      <td>NaN</td>\n",
       "      <td>NaN</td>\n",
       "      <td>NaN</td>\n",
       "    </tr>\n",
       "    <tr>\n",
       "      <th>1</th>\n",
       "      <td>4903</td>\n",
       "      <td>Musubi</td>\n",
       "      <td>caviar</td>\n",
       "      <td>NaN</td>\n",
       "      <td>45.504641</td>\n",
       "      <td>-122.643806</td>\n",
       "      <td>NaN</td>\n",
       "      <td>US</td>\n",
       "      <td>FALSE</td>\n",
       "      <td>musubi</td>\n",
       "      <td>NaN</td>\n",
       "      <td>NaN</td>\n",
       "      <td>NaN</td>\n",
       "    </tr>\n",
       "    <tr>\n",
       "      <th>2</th>\n",
       "      <td>4723</td>\n",
       "      <td>The Bakers' Lounge</td>\n",
       "      <td>caviar</td>\n",
       "      <td>NaN</td>\n",
       "      <td>38.924559</td>\n",
       "      <td>-76.990115</td>\n",
       "      <td>NaN</td>\n",
       "      <td>US</td>\n",
       "      <td>FALSE</td>\n",
       "      <td>the_bakers_lounge</td>\n",
       "      <td>NaN</td>\n",
       "      <td>NaN</td>\n",
       "      <td>NaN</td>\n",
       "    </tr>\n",
       "  </tbody>\n",
       "</table>\n",
       "</div>"
      ],
      "text/plain": [
       "  restaurant_id                name platform sub_platform   latitude  \\\n",
       "0          9744           Loco Coco   caviar          NaN  40.765004   \n",
       "1          4903              Musubi   caviar          NaN  45.504641   \n",
       "2          4723  The Bakers' Lounge   caviar          NaN  38.924559   \n",
       "\n",
       "     longitude city country active  standardized_name restaurant_chain  \\\n",
       "0   -73.965961  NaN      US   TRUE          loco_coco              NaN   \n",
       "1  -122.643806  NaN      US  FALSE             musubi              NaN   \n",
       "2   -76.990115  NaN      US  FALSE  the_bakers_lounge              NaN   \n",
       "\n",
       "  delivery_radius  geom  \n",
       "0             NaN   NaN  \n",
       "1             NaN   NaN  \n",
       "2             NaN   NaN  "
      ]
     },
     "execution_count": 3,
     "metadata": {},
     "output_type": "execute_result"
    }
   ],
   "source": [
    "original_dataset.head(3)"
   ]
  },
  {
   "cell_type": "code",
   "execution_count": 4,
   "metadata": {},
   "outputs": [
    {
     "name": "stdout",
     "output_type": "stream",
     "text": [
      "<class 'pandas.core.frame.DataFrame'>\n",
      "RangeIndex: 644089 entries, 0 to 644088\n",
      "Data columns (total 13 columns):\n",
      " #   Column             Non-Null Count   Dtype  \n",
      "---  ------             --------------   -----  \n",
      " 0   restaurant_id      644089 non-null  object \n",
      " 1   name               644086 non-null  object \n",
      " 2   platform           644087 non-null  object \n",
      " 3   sub_platform       599311 non-null  object \n",
      " 4   latitude           644086 non-null  object \n",
      " 5   longitude          644070 non-null  object \n",
      " 6   city               56196 non-null   object \n",
      " 7   country            644071 non-null  object \n",
      " 8   active             643867 non-null  object \n",
      " 9   standardized_name  643872 non-null  object \n",
      " 10  restaurant_chain   169 non-null     object \n",
      " 11  delivery_radius    354661 non-null  object \n",
      " 12  geom               0 non-null       float64\n",
      "dtypes: float64(1), object(12)\n",
      "memory usage: 63.9+ MB\n"
     ]
    }
   ],
   "source": [
    "original_dataset.info()"
   ]
  },
  {
   "cell_type": "code",
   "execution_count": 5,
   "metadata": {},
   "outputs": [
    {
     "name": "stdout",
     "output_type": "stream",
     "text": [
      "The provided data has 644089 rows and 13 columns of restaurant data.\n"
     ]
    }
   ],
   "source": [
    "print('The provided data has {0} rows and {1} columns of restaurant data.'.format(\n",
    "    original_dataset.shape[0], \n",
    "    original_dataset.shape[1])\n",
    "     )"
   ]
  },
  {
   "cell_type": "code",
   "execution_count": 6,
   "metadata": {},
   "outputs": [],
   "source": [
    "### PSEUDOCODE \n",
    "\n",
    "# are there some visualizations i can include here?\n",
    "# don't make visualizations needlessly, doesn't make sense unless it's actually useful\n",
    "\n",
    "# AT THE END OF THE PROJECT WHAT IF I USED BASEMAP TO MAP THE BEFORE AND AFTER\n",
    "# AND I CAN ALSO JUST CREATE A MAP WHERE ALL THE DATA POINTS ACTUALLY EXIST ON\n",
    "# THINK MORE ABOUT THIS, THERE'S ROOM FOR SOMETHING REALLY VALUABLE WITH GRAPHING ACTUAL GEOLOGICAL POINTS"
   ]
  },
  {
   "cell_type": "code",
   "execution_count": 7,
   "metadata": {},
   "outputs": [],
   "source": [
    "### PSEUDOCODE \n",
    "\n",
    "# DONE    look up the ones with missing name and fill it in, simple \n",
    "# DONE    for those missing lat \n",
    "# DONE    or long values, which isn't a lot, just research and fill it in\n",
    "# do the same with country values, although a glance at those values might reveal most of them, if not all, are US so it won't matter for a model anyways\n",
    "# take an individual look at those that are lableled chains and explore these a little\n",
    "\n",
    "# secondary priorities are to look more deeply at sub platform and delivery radius\n",
    "\n",
    "\n",
    "# AT THE END OF THIS PROJECT I WANT TO IMPLEMENT A ML ALGO ON A CLEAN DATASET AND THEN COMPARE IT TO THE 'CORRECT' VALUE THAT I DETERMINE WITH SIMPLE LABELING FROM LAT AND LONG DATA"
   ]
  },
  {
   "cell_type": "markdown",
   "metadata": {},
   "source": [
    "### Creating a New Dataset"
   ]
  },
  {
   "cell_type": "code",
   "execution_count": 8,
   "metadata": {},
   "outputs": [],
   "source": [
    "# to keep the original provided dataset unaltered\n",
    "# I am making a copy of the data to use for data cleaning, pre-processing, etc\n",
    "\n",
    "data = original_dataset.copy()"
   ]
  },
  {
   "cell_type": "markdown",
   "metadata": {},
   "source": [
    "I want to check to see if I can manually insert the missing names of the 3 rows missing values in the 'name' column."
   ]
  },
  {
   "cell_type": "code",
   "execution_count": 9,
   "metadata": {},
   "outputs": [
    {
     "name": "stdout",
     "output_type": "stream",
     "text": [
      "                    restaurant_id name      platform sub_platform latitude  \\\n",
      "34794                        None  NaN  delivery.com          NaN      NaN   \n",
      "236516  Recreation & Wellness Ctr  NaN           NaN          NaN      NaN   \n",
      "316021                  Suite 112  NaN           NaN          NaN      NaN   \n",
      "\n",
      "       longitude city country active standardized_name restaurant_chain  \\\n",
      "34794        NaN  NaN      US  FALSE               NaN              NaN   \n",
      "236516       NaN  NaN     NaN    NaN               NaN              NaN   \n",
      "316021       NaN  NaN     NaN    NaN               NaN              NaN   \n",
      "\n",
      "       delivery_radius  geom  \n",
      "34794              NaN   NaN  \n",
      "236516             NaN   NaN  \n",
      "316021             NaN   NaN  \n"
     ]
    }
   ],
   "source": [
    "# using simple boolean indexing to examine the rows with missing values for the 'name' column\n",
    "\n",
    "print(data[data['name'].isnull()])"
   ]
  },
  {
   "cell_type": "markdown",
   "metadata": {},
   "source": [
    "#### Deleting Rows with Little to No Value\n",
    "\n",
    "Because there is almost no other data I can use, such as latitude and longitude data, to determine what these restaurants may be, I am deleting these rows of data entirely from the dataset."
   ]
  },
  {
   "cell_type": "code",
   "execution_count": 10,
   "metadata": {},
   "outputs": [],
   "source": [
    "data.dropna(subset = ['name'], inplace = True)\n",
    "data.reset_index(inplace = True, drop = True)"
   ]
  },
  {
   "cell_type": "code",
   "execution_count": 11,
   "metadata": {},
   "outputs": [
    {
     "name": "stdout",
     "output_type": "stream",
     "text": [
      "The dataset now has 644086 rows and 13 columns of restaurant data.\n"
     ]
    }
   ],
   "source": [
    "print('The dataset now has {0} rows and {1} columns of restaurant data.'.format(\n",
    "    data.shape[0], \n",
    "    data.shape[1])\n",
    "     )"
   ]
  },
  {
   "cell_type": "markdown",
   "metadata": {},
   "source": [
    "### Removing Columns\n",
    "\n",
    "Explain why some columns are removed and why they might not offer much value for what I'm trying to do and why."
   ]
  },
  {
   "cell_type": "code",
   "execution_count": 12,
   "metadata": {},
   "outputs": [
    {
     "data": {
      "text/plain": [
       "Index(['restaurant_id', 'name', 'platform', 'sub_platform', 'latitude',\n",
       "       'longitude', 'country', 'active'],\n",
       "      dtype='object')"
      ]
     },
     "execution_count": 12,
     "metadata": {},
     "output_type": "execute_result"
    }
   ],
   "source": [
    "data.drop(columns = ['city', 'restaurant_chain', 'delivery_radius', 'geom', 'standardized_name'], inplace = True)\n",
    "\n",
    "data.columns"
   ]
  },
  {
   "cell_type": "markdown",
   "metadata": {},
   "source": [
    "### Exploring Missing Latitude and Longitude Values"
   ]
  },
  {
   "cell_type": "code",
   "execution_count": 13,
   "metadata": {},
   "outputs": [
    {
     "name": "stdout",
     "output_type": "stream",
     "text": [
      "Empty DataFrame\n",
      "Columns: [restaurant_id, name, platform, sub_platform, latitude, longitude, country, active]\n",
      "Index: []\n"
     ]
    }
   ],
   "source": [
    "# checking what missing values may exist in the latitude column\n",
    "# using simple boolean indexing to examine the rows with missing values for the 'latitude' column\n",
    "\n",
    "print(data[data['latitude'].isnull()])"
   ]
  },
  {
   "cell_type": "markdown",
   "metadata": {},
   "source": [
    "It appears that getting rid of the rows where the value in the 'name' column was missing also removed the rows that were missing latitude data. "
   ]
  },
  {
   "cell_type": "code",
   "execution_count": 14,
   "metadata": {},
   "outputs": [
    {
     "name": "stdout",
     "output_type": "stream",
     "text": [
      "Only a few of the rows are displayed for easier viewing.\n",
      "\n",
      "--------------------------------------------------------\n",
      "\n",
      "                                            restaurant_id name  \\\n",
      "139275                                    20 Hugus Alley\"  USD   \n",
      "187182                                           Ste 190\"  USD   \n",
      "194074                                           Ste 170\"  USD   \n",
      "201826  (b/t N P St & N Rhode Island Ave) in Logan Cir...  USD   \n",
      "204009                                           Ste 100\"  USD   \n",
      "\n",
      "                                                 platform sub_platform  \\\n",
      "139275  [[\"open: 12:00, close: 18:00\"], [\"open: 12:00,...         TRUE   \n",
      "187182                       [[], [], [], [], [], [], []]        FALSE   \n",
      "194074  [[\"open: 12:00, close: 21:00\"], [\"open: 12:00,...         TRUE   \n",
      "201826  [[\"open: 12:00, close: 21:30\"], [\"open: 12:00,...         TRUE   \n",
      "204009  [[\"open: 12:00, close: 18:30\"], [\"open: 12:00,...         TRUE   \n",
      "\n",
      "                             latitude longitude country active  \n",
      "139275                      sugarfina       NaN     NaN     45  \n",
      "187182             ohjah_noodle_house       NaN     NaN     40  \n",
      "194074             novecento_pizzeria       NaN     NaN     50  \n",
      "201826  14th_street_cafe_asian_bistro       NaN     NaN     40  \n",
      "204009  straight_from_philly_steakout       NaN     NaN     45  \n"
     ]
    }
   ],
   "source": [
    "# using the same method as above to examine the rows with missing values for the 'longitude' column\n",
    "\n",
    "print('Only a few of the rows are displayed for easier viewing.\\n')\n",
    "print('--------------------------------------------------------\\n')\n",
    "print(data[data['longitude'].isnull()][:5])    # remove the indexing to see all rows with missing 'longitude' values"
   ]
  },
  {
   "cell_type": "markdown",
   "metadata": {},
   "source": [
    "It appears that, for whatever reason, data was not input and/or collected properly for the data points above. The values within each column seem to be in the wrong place. However, I can simply:\n",
    "- Look these restaurants up on the internet\n",
    "- Fill in + replace the existing values with correct values\n",
    "\n",
    "##### Correct Information for Restaurants\n",
    "I'll be looking up the restaurants up by their names, which I am presuming are the values found in the 'latitude' column. I can confirm I am collecting information for the correct restaurants with the other information available (but misplaced) in the other columns.\n",
    "- Row 139275 (Sugarfina) [info](https://www.yelp.com/biz/sugarfina-pasadena-pasadena-2)\n",
    "- Row 187182 (Ohjah Nooodle House) [info](https://www.yelp.com/biz/ohjah-noodle-house-las-vegas-3)\n",
    "- Row 194074 (Novecento Pizzeria) [info](https://www.yelp.com/biz/novecento-pizzeria-las-vegas)\n",
    "- Row 201826 (14th St Cafe Asian Bistro) [info](https://www.yelp.com/biz/14th-st-cafe-asian-bistro-washington-2)\n",
    "- Row 204009 (Straight From Philly Steakout) [info](https://www.yelp.com/biz/straight-from-philly-steakout-henderson-3)\n",
    "- Row 229923 (Tumbao Buns - Downtown Miami) [info](https://www.yelp.com/biz/tumbao-buns-downtown-miami-miami-2)\n",
    "    - The address found on the Yelp page doesn't match with the one provided on the data set. This is most likely due to the fact that this restaurant is technically a food truck, a mobile restuarant that can have different locations. The correct address is listed [here](https://postmates.com/merchant/tumbao-buns-miami)\n",
    "- Row 250285 (Dunkin Donuts) [info](https://www.yelp.com/biz/dunkin-donuts-pompano-beach-7?osq=dunkin+donuts+locations)\n",
    "- Row 294759 (Dos Coyotes Border Cafe) [info](https://www.grubhub.com/restaurant/dos-coyotes-border-cafe-8519-bond-rd-ste-100-elk-grove/1244011)\n",
    "- Row 298938 (China One) [info](https://www.grubhub.com/restaurant/china-one-7080-n-durango-dr-ste-130-las-vegas/394082)\n",
    "- Row 302088 (Fat Boy) [info](https://www.yelp.com/biz/fat-boy-henderson-2)\n",
    "- Row 341276 (Au Bon Pain) [info](https://www.yelp.com/biz/au-bon-pain-chicago-14)\n",
    "- Row 344993 (Ohjah Noodle House 2) [info](https://www.grubhub.com/restaurant/ohjah-noodle-house-35-e-horizon-ridge-pkwy-ste-160-henderson/1121695)\n",
    "    - This may, interestingly, be the same as the other Ohjah Noodle House listed above. Investigate further.\n",
    "- Row 355632 (Cinnabon) [info](https://www.zomato.com/maricopa-county-az/scholtzskys-cinnabon-1-goodyear)\n",
    "- Row 379700 (Thailicious Authentic Thai & Vegan) [info](https://www.yelp.com/biz/thailicious-authentic-thai-and-vegan-henderson?osq=thailicious)\n",
    "- Row 391644 (Boss's Slow Smoked BBQ) [info](https://www.yelp.com/biz/bosss-slow-smoked-bbq-n-las-vegas)\n",
    "- Row 415759 (Buon Gusto Ristorante) [info](https://www.yelp.com/biz/buon-gusto-ristorante-henderson)"
   ]
  },
  {
   "cell_type": "markdown",
   "metadata": {},
   "source": [
    "A closer look at our actual data set shows that the rows of data above are not unique data points but instead are repeats of rows directly preceding them. "
   ]
  },
  {
   "cell_type": "code",
   "execution_count": 15,
   "metadata": {},
   "outputs": [
    {
     "name": "stdout",
     "output_type": "stream",
     "text": [
      "                               restaurant_id            name  \\\n",
      "250284  70f366b3-a6fd-4634-8e57-7364e8f23cd2  Dunkin' Donuts   \n",
      "250285                          Fl Turnpike\"             USD   \n",
      "\n",
      "                            platform sub_platform       latitude  \\\n",
      "250284                     postmates   restaurant    28.51478909   \n",
      "250285  [[], [], [], [], [], [], []]        FALSE  dunkin_donuts   \n",
      "\n",
      "           longitude country active  \n",
      "250284  -81.49956571      US    NaN  \n",
      "250285           NaN     NaN     40  \n"
     ]
    }
   ],
   "source": [
    "print(data.iloc[250284:250286,:])"
   ]
  },
  {
   "cell_type": "code",
   "execution_count": 16,
   "metadata": {},
   "outputs": [
    {
     "name": "stdout",
     "output_type": "stream",
     "text": [
      "Sugarfina\n",
      "Ohjah Noodle House\n",
      "Novecento Pizzeria\n",
      "14th Street Cafe Asian Bistro\n",
      "Straight From Philly Steakout\n",
      "Tumbao Buns\n",
      "Dunkin' Donuts\n",
      "Dos Coyotes Border Cafe\n",
      "China One\n",
      "Fat Boy\n",
      "Au Bon Pain\n",
      "Ohjah Noodle House #2\n",
      "Cinnabon\n",
      "Thailicious\n",
      "Boss's Slow Smoked BBQ\n",
      "Buon Gusto Ristorante\n"
     ]
    }
   ],
   "source": [
    "indices_missing_lat = [139275, 187182, 194074, \n",
    "                    201826, 204009, 229923, \n",
    "                    250285, 294759, 298938, \n",
    "                    302088, 341276, 344993, \n",
    "                    355632, 379700, 391644, 415759]\n",
    "\n",
    "for index in indices_missing_lat:\n",
    "    print(data.iloc[index - 1,1])"
   ]
  },
  {
   "cell_type": "markdown",
   "metadata": {},
   "source": [
    "The simple solution is to remove the rows missing 'longitude' values, as they represent duplicate entries."
   ]
  },
  {
   "cell_type": "code",
   "execution_count": 17,
   "metadata": {},
   "outputs": [],
   "source": [
    "data.dropna(subset = ['longitude'], inplace = True)\n",
    "data.reset_index(inplace = True, drop = True)"
   ]
  },
  {
   "cell_type": "code",
   "execution_count": 18,
   "metadata": {},
   "outputs": [
    {
     "name": "stdout",
     "output_type": "stream",
     "text": [
      "The dataset now has 644070 rows and 8 columns of restaurant data.\n"
     ]
    }
   ],
   "source": [
    "print('The dataset now has {0} rows and {1} columns of restaurant data.'.format(\n",
    "    data.shape[0], \n",
    "    data.shape[1])\n",
    "     )"
   ]
  },
  {
   "cell_type": "markdown",
   "metadata": {},
   "source": [
    "## A Quick Glance at Country Values"
   ]
  },
  {
   "cell_type": "code",
   "execution_count": 19,
   "metadata": {},
   "outputs": [
    {
     "name": "stdout",
     "output_type": "stream",
     "text": [
      "<class 'pandas.core.frame.DataFrame'>\n",
      "RangeIndex: 644070 entries, 0 to 644069\n",
      "Data columns (total 8 columns):\n",
      " #   Column         Non-Null Count   Dtype \n",
      "---  ------         --------------   ----- \n",
      " 0   restaurant_id  644070 non-null  object\n",
      " 1   name           644070 non-null  object\n",
      " 2   platform       644070 non-null  object\n",
      " 3   sub_platform   599295 non-null  object\n",
      " 4   latitude       644070 non-null  object\n",
      " 5   longitude      644070 non-null  object\n",
      " 6   country        644070 non-null  object\n",
      " 7   active         643850 non-null  object\n",
      "dtypes: object(8)\n",
      "memory usage: 39.3+ MB\n"
     ]
    }
   ],
   "source": [
    "data.info()"
   ]
  },
  {
   "cell_type": "code",
   "execution_count": 20,
   "metadata": {},
   "outputs": [
    {
     "data": {
      "text/plain": [
       "count     644070\n",
       "unique        27\n",
       "top           US\n",
       "freq      643890\n",
       "Name: country, dtype: object"
      ]
     },
     "execution_count": 20,
     "metadata": {},
     "output_type": "execute_result"
    }
   ],
   "source": [
    "data['country'].describe()"
   ]
  },
  {
   "cell_type": "markdown",
   "metadata": {},
   "source": [
    "Most of the data points have 'US' listed in the 'country' column, so there would be value in examining the rows in which this is not the case."
   ]
  },
  {
   "cell_type": "code",
   "execution_count": 21,
   "metadata": {},
   "outputs": [
    {
     "data": {
      "text/html": [
       "<div>\n",
       "<style scoped>\n",
       "    .dataframe tbody tr th:only-of-type {\n",
       "        vertical-align: middle;\n",
       "    }\n",
       "\n",
       "    .dataframe tbody tr th {\n",
       "        vertical-align: top;\n",
       "    }\n",
       "\n",
       "    .dataframe thead th {\n",
       "        text-align: right;\n",
       "    }\n",
       "</style>\n",
       "<table border=\"1\" class=\"dataframe\">\n",
       "  <thead>\n",
       "    <tr style=\"text-align: right;\">\n",
       "      <th></th>\n",
       "      <th>restaurant_id</th>\n",
       "      <th>name</th>\n",
       "      <th>platform</th>\n",
       "      <th>sub_platform</th>\n",
       "      <th>latitude</th>\n",
       "      <th>longitude</th>\n",
       "      <th>country</th>\n",
       "      <th>active</th>\n",
       "    </tr>\n",
       "  </thead>\n",
       "  <tbody>\n",
       "    <tr>\n",
       "      <th>96549</th>\n",
       "      <td>,USD,[[\"\"open: 12:00</td>\n",
       "      <td>close: 20:30\"\"]</td>\n",
       "      <td>[\"\"open: 12:00</td>\n",
       "      <td>close: 20:30\"\"]</td>\n",
       "      <td>[\"\"open: 12:00</td>\n",
       "      <td>close: 20:30\"\"]</td>\n",
       "      <td>close: 20:30\"\"]</td>\n",
       "      <td>close: 20:30\"\"]</td>\n",
       "    </tr>\n",
       "    <tr>\n",
       "      <th>96958</th>\n",
       "      <td>,USD,[[\"\"open: 11:30</td>\n",
       "      <td>close: 20:00\"\"]</td>\n",
       "      <td>[\"\"open: 11:30</td>\n",
       "      <td>close: 20:00\"\"]</td>\n",
       "      <td>[\"\"open: 11:30</td>\n",
       "      <td>close: 20:00\"\"]</td>\n",
       "      <td>close: 20:00\"\"]</td>\n",
       "      <td>close: 20:00\"\"]</td>\n",
       "    </tr>\n",
       "    <tr>\n",
       "      <th>97841</th>\n",
       "      <td>,USD,[[\"\"open: 13:00</td>\n",
       "      <td>close: 23:00\"\"]</td>\n",
       "      <td>[\"\"open: 13:00</td>\n",
       "      <td>close: 23:00\"\"]</td>\n",
       "      <td>[\"\"open: 13:00</td>\n",
       "      <td>close: 23:00\"\"]</td>\n",
       "      <td>close: 23:00\"\"]</td>\n",
       "      <td>close: 00:00\"\"]</td>\n",
       "    </tr>\n",
       "    <tr>\n",
       "      <th>104012</th>\n",
       "      <td>,USD,[[]</td>\n",
       "      <td>[]</td>\n",
       "      <td>[]</td>\n",
       "      <td>[]</td>\n",
       "      <td>[]</td>\n",
       "      <td>[]</td>\n",
       "      <td>FALSE</td>\n",
       "      <td>NaN</td>\n",
       "    </tr>\n",
       "    <tr>\n",
       "      <th>104302</th>\n",
       "      <td>,USD,[[\"\"open: 17:00</td>\n",
       "      <td>close: 23:30\"\"]</td>\n",
       "      <td>[]</td>\n",
       "      <td>[\"\"open: 17:00</td>\n",
       "      <td>close: 23:00\"\"]</td>\n",
       "      <td>[\"\"open: 17:00</td>\n",
       "      <td>[\"\"open: 17:00</td>\n",
       "      <td>[]]\"</td>\n",
       "    </tr>\n",
       "    <tr>\n",
       "      <th>...</th>\n",
       "      <td>...</td>\n",
       "      <td>...</td>\n",
       "      <td>...</td>\n",
       "      <td>...</td>\n",
       "      <td>...</td>\n",
       "      <td>...</td>\n",
       "      <td>...</td>\n",
       "      <td>...</td>\n",
       "    </tr>\n",
       "    <tr>\n",
       "      <th>426413</th>\n",
       "      <td>,USD,[[\"\"open: 17:00</td>\n",
       "      <td>close: 19:00\"\"]</td>\n",
       "      <td>[\"\"open: 17:00</td>\n",
       "      <td>close: 19:00\"\"]</td>\n",
       "      <td>[\"\"open: 17:00</td>\n",
       "      <td>close: 19:00\"\"]</td>\n",
       "      <td>close: 19:00\"\"]</td>\n",
       "      <td>close: 21:30\"\"]</td>\n",
       "    </tr>\n",
       "    <tr>\n",
       "      <th>428302</th>\n",
       "      <td>,USD,[[]</td>\n",
       "      <td>[]</td>\n",
       "      <td>[]</td>\n",
       "      <td>[]</td>\n",
       "      <td>[]</td>\n",
       "      <td>[]</td>\n",
       "      <td>FALSE</td>\n",
       "      <td>NaN</td>\n",
       "    </tr>\n",
       "    <tr>\n",
       "      <th>431379</th>\n",
       "      <td>,USD,[[\"\"open: 14:00</td>\n",
       "      <td>close: 22:00\"\"]</td>\n",
       "      <td>[\"\"open: 14:00</td>\n",
       "      <td>close: 22:00\"\"]</td>\n",
       "      <td>[\"\"open: 14:00</td>\n",
       "      <td>close: 22:00\"\"]</td>\n",
       "      <td>close: 22:00\"\"]</td>\n",
       "      <td>close: 22:00\"\"]</td>\n",
       "    </tr>\n",
       "    <tr>\n",
       "      <th>433563</th>\n",
       "      <td>,USD,[[]</td>\n",
       "      <td>[\"\"open: 17:00</td>\n",
       "      <td>close: 20:00\"\"]</td>\n",
       "      <td>[\"\"open: 17:00</td>\n",
       "      <td>close: 20:00\"\"]</td>\n",
       "      <td>[\"\"open: 18:30</td>\n",
       "      <td>[\"\"open: 17:00</td>\n",
       "      <td>[\"\"open: 17:00</td>\n",
       "    </tr>\n",
       "    <tr>\n",
       "      <th>440752</th>\n",
       "      <td>,USD,[[\"\"open: 11:00</td>\n",
       "      <td>close: 20:00\"\"]</td>\n",
       "      <td>[\"\"open: 11:00</td>\n",
       "      <td>close: 20:00\"\"]</td>\n",
       "      <td>[\"\"open: 11:00</td>\n",
       "      <td>close: 20:00\"\"]</td>\n",
       "      <td>close: 20:00\"\"]</td>\n",
       "      <td>close: 20:00\"\"]</td>\n",
       "    </tr>\n",
       "  </tbody>\n",
       "</table>\n",
       "<p>180 rows × 8 columns</p>\n",
       "</div>"
      ],
      "text/plain": [
       "               restaurant_id              name          platform  \\\n",
       "96549   ,USD,[[\"\"open: 12:00   close: 20:30\"\"]    [\"\"open: 12:00   \n",
       "96958   ,USD,[[\"\"open: 11:30   close: 20:00\"\"]    [\"\"open: 11:30   \n",
       "97841   ,USD,[[\"\"open: 13:00   close: 23:00\"\"]    [\"\"open: 13:00   \n",
       "104012              ,USD,[[]                []                []   \n",
       "104302  ,USD,[[\"\"open: 17:00   close: 23:30\"\"]                []   \n",
       "...                      ...               ...               ...   \n",
       "426413  ,USD,[[\"\"open: 17:00   close: 19:00\"\"]    [\"\"open: 17:00   \n",
       "428302              ,USD,[[]                []                []   \n",
       "431379  ,USD,[[\"\"open: 14:00   close: 22:00\"\"]    [\"\"open: 14:00   \n",
       "433563              ,USD,[[]    [\"\"open: 17:00   close: 20:00\"\"]   \n",
       "440752  ,USD,[[\"\"open: 11:00   close: 20:00\"\"]    [\"\"open: 11:00   \n",
       "\n",
       "            sub_platform          latitude         longitude  \\\n",
       "96549    close: 20:30\"\"]    [\"\"open: 12:00   close: 20:30\"\"]   \n",
       "96958    close: 20:00\"\"]    [\"\"open: 11:30   close: 20:00\"\"]   \n",
       "97841    close: 23:00\"\"]    [\"\"open: 13:00   close: 23:00\"\"]   \n",
       "104012                []                []                []   \n",
       "104302    [\"\"open: 17:00   close: 23:00\"\"]    [\"\"open: 17:00   \n",
       "...                  ...               ...               ...   \n",
       "426413   close: 19:00\"\"]    [\"\"open: 17:00   close: 19:00\"\"]   \n",
       "428302                []                []                []   \n",
       "431379   close: 22:00\"\"]    [\"\"open: 14:00   close: 22:00\"\"]   \n",
       "433563    [\"\"open: 17:00   close: 20:00\"\"]    [\"\"open: 18:30   \n",
       "440752   close: 20:00\"\"]    [\"\"open: 11:00   close: 20:00\"\"]   \n",
       "\n",
       "                 country            active  \n",
       "96549    close: 20:30\"\"]   close: 20:30\"\"]  \n",
       "96958    close: 20:00\"\"]   close: 20:00\"\"]  \n",
       "97841    close: 23:00\"\"]   close: 00:00\"\"]  \n",
       "104012             FALSE               NaN  \n",
       "104302    [\"\"open: 17:00              []]\"  \n",
       "...                  ...               ...  \n",
       "426413   close: 19:00\"\"]   close: 21:30\"\"]  \n",
       "428302             FALSE               NaN  \n",
       "431379   close: 22:00\"\"]   close: 22:00\"\"]  \n",
       "433563    [\"\"open: 17:00    [\"\"open: 17:00  \n",
       "440752   close: 20:00\"\"]   close: 20:00\"\"]  \n",
       "\n",
       "[180 rows x 8 columns]"
      ]
     },
     "execution_count": 21,
     "metadata": {},
     "output_type": "execute_result"
    }
   ],
   "source": [
    "not_us_data = data[data['country'] != 'US']\n",
    "\n",
    "not_us_data"
   ]
  },
  {
   "cell_type": "markdown",
   "metadata": {},
   "source": [
    "It seems possible that the rows of data that don't state 'US' in the country column are also filled with data that was entered or collected incorrectly. \n",
    "\n",
    "Upon observation, there seems to be a mix of restaurant hours, names, delivery radii, booleans, and NaNs found throughout this data. "
   ]
  },
  {
   "cell_type": "code",
   "execution_count": 22,
   "metadata": {},
   "outputs": [
    {
     "data": {
      "text/plain": [
       "0.02794727281196143"
      ]
     },
     "execution_count": 22,
     "metadata": {},
     "output_type": "execute_result"
    }
   ],
   "source": [
    "((644070 - 643890) / 644070) * 100"
   ]
  },
  {
   "cell_type": "markdown",
   "metadata": {},
   "source": [
    "For the sake of time, because only 0.03% of the data is mislabeled as such, the appropriate solution at this time is to simply remove these data points."
   ]
  },
  {
   "cell_type": "code",
   "execution_count": 23,
   "metadata": {},
   "outputs": [
    {
     "name": "stdout",
     "output_type": "stream",
     "text": [
      "The dataset now has 643890 rows and 8 columns of restaurant data.\n"
     ]
    }
   ],
   "source": [
    "data = data[data['country'] == 'US']\n",
    "\n",
    "print('The dataset now has {0} rows and {1} columns of restaurant data.'.format(\n",
    "    data.shape[0], \n",
    "    data.shape[1])\n",
    "     )"
   ]
  },
  {
   "cell_type": "markdown",
   "metadata": {},
   "source": [
    "## Latitude and Longitude\n",
    "\n",
    "include an explanation about how I intend to go about solving the problem and why it's important to clean and process the latitude and longitude as much as possible."
   ]
  },
  {
   "cell_type": "code",
   "execution_count": 24,
   "metadata": {},
   "outputs": [
    {
     "data": {
      "text/plain": [
       "restaurant_id    object\n",
       "name             object\n",
       "platform         object\n",
       "sub_platform     object\n",
       "latitude         object\n",
       "longitude        object\n",
       "country          object\n",
       "active           object\n",
       "dtype: object"
      ]
     },
     "execution_count": 24,
     "metadata": {},
     "output_type": "execute_result"
    }
   ],
   "source": [
    "data.dtypes"
   ]
  },
  {
   "cell_type": "code",
   "execution_count": 25,
   "metadata": {},
   "outputs": [
    {
     "data": {
      "text/plain": [
       "restaurant_id          9744\n",
       "name              Loco Coco\n",
       "platform             caviar\n",
       "sub_platform            NaN\n",
       "latitude          40.765004\n",
       "longitude        -73.965961\n",
       "country                  US\n",
       "active                 TRUE\n",
       "Name: 0, dtype: object"
      ]
     },
     "execution_count": 25,
     "metadata": {},
     "output_type": "execute_result"
    }
   ],
   "source": [
    "data.loc[0]"
   ]
  },
  {
   "cell_type": "markdown",
   "metadata": {},
   "source": [
    "Explain why I am making changes to the following columns and not to others."
   ]
  },
  {
   "cell_type": "code",
   "execution_count": 26,
   "metadata": {},
   "outputs": [],
   "source": [
    "data['name'] = data['name'].astype('str')\n",
    "data['platform'] = data['platform'].astype('str')\n",
    "data['latitude'] = data['latitude'].astype('float')\n",
    "data['longitude'] = data['longitude'].astype('float')"
   ]
  },
  {
   "cell_type": "code",
   "execution_count": 27,
   "metadata": {},
   "outputs": [
    {
     "data": {
      "text/plain": [
       "count    643890.000000\n",
       "mean         37.021373\n",
       "std           8.467277\n",
       "min         -90.000000\n",
       "25%          33.759357\n",
       "50%          38.469842\n",
       "75%          40.800029\n",
       "max         555.000000\n",
       "Name: latitude, dtype: float64"
      ]
     },
     "execution_count": 27,
     "metadata": {},
     "output_type": "execute_result"
    }
   ],
   "source": [
    "data['latitude'].describe()"
   ]
  },
  {
   "cell_type": "code",
   "execution_count": 28,
   "metadata": {},
   "outputs": [
    {
     "data": {
      "text/plain": [
       "-90.000000    1683\n",
       " 40.762646     101\n",
       " 42.825685      80\n",
       " 34.039710      67\n",
       " 35.279820      66\n",
       "              ... \n",
       " 27.036954       1\n",
       " 33.996883       1\n",
       " 40.779721       1\n",
       " 33.998372       1\n",
       " 32.162496       1\n",
       "Name: latitude, Length: 544594, dtype: int64"
      ]
     },
     "execution_count": 28,
     "metadata": {},
     "output_type": "execute_result"
    }
   ],
   "source": [
    "data['latitude'].value_counts(dropna = True).sort_values(ascending = False)"
   ]
  },
  {
   "cell_type": "code",
   "execution_count": 29,
   "metadata": {},
   "outputs": [
    {
     "data": {
      "text/html": [
       "<div>\n",
       "<style scoped>\n",
       "    .dataframe tbody tr th:only-of-type {\n",
       "        vertical-align: middle;\n",
       "    }\n",
       "\n",
       "    .dataframe tbody tr th {\n",
       "        vertical-align: top;\n",
       "    }\n",
       "\n",
       "    .dataframe thead th {\n",
       "        text-align: right;\n",
       "    }\n",
       "</style>\n",
       "<table border=\"1\" class=\"dataframe\">\n",
       "  <thead>\n",
       "    <tr style=\"text-align: right;\">\n",
       "      <th></th>\n",
       "      <th>restaurant_id</th>\n",
       "      <th>name</th>\n",
       "      <th>platform</th>\n",
       "      <th>sub_platform</th>\n",
       "      <th>latitude</th>\n",
       "      <th>longitude</th>\n",
       "      <th>country</th>\n",
       "      <th>active</th>\n",
       "    </tr>\n",
       "  </thead>\n",
       "  <tbody>\n",
       "    <tr>\n",
       "      <th>60</th>\n",
       "      <td>59739</td>\n",
       "      <td>beQu Juice</td>\n",
       "      <td>delivery.com</td>\n",
       "      <td>NaN</td>\n",
       "      <td>-90.0</td>\n",
       "      <td>0.0</td>\n",
       "      <td>US</td>\n",
       "      <td>FALSE</td>\n",
       "    </tr>\n",
       "    <tr>\n",
       "      <th>64</th>\n",
       "      <td>63820</td>\n",
       "      <td>Gino's East</td>\n",
       "      <td>delivery.com</td>\n",
       "      <td>NaN</td>\n",
       "      <td>-90.0</td>\n",
       "      <td>0.0</td>\n",
       "      <td>US</td>\n",
       "      <td>FALSE</td>\n",
       "    </tr>\n",
       "    <tr>\n",
       "      <th>100</th>\n",
       "      <td>64603</td>\n",
       "      <td>SORI SUSHI</td>\n",
       "      <td>delivery.com</td>\n",
       "      <td>NaN</td>\n",
       "      <td>-90.0</td>\n",
       "      <td>0.0</td>\n",
       "      <td>US</td>\n",
       "      <td>FALSE</td>\n",
       "    </tr>\n",
       "    <tr>\n",
       "      <th>201</th>\n",
       "      <td>63305</td>\n",
       "      <td>ezras food</td>\n",
       "      <td>delivery.com</td>\n",
       "      <td>NaN</td>\n",
       "      <td>-90.0</td>\n",
       "      <td>0.0</td>\n",
       "      <td>US</td>\n",
       "      <td>FALSE</td>\n",
       "    </tr>\n",
       "    <tr>\n",
       "      <th>212</th>\n",
       "      <td>57676</td>\n",
       "      <td>cupping Room Cafe</td>\n",
       "      <td>delivery.com</td>\n",
       "      <td>NaN</td>\n",
       "      <td>-90.0</td>\n",
       "      <td>0.0</td>\n",
       "      <td>US</td>\n",
       "      <td>FALSE</td>\n",
       "    </tr>\n",
       "  </tbody>\n",
       "</table>\n",
       "</div>"
      ],
      "text/plain": [
       "    restaurant_id               name      platform sub_platform  latitude  \\\n",
       "60          59739         beQu Juice  delivery.com          NaN     -90.0   \n",
       "64          63820        Gino's East  delivery.com          NaN     -90.0   \n",
       "100         64603         SORI SUSHI  delivery.com          NaN     -90.0   \n",
       "201         63305         ezras food  delivery.com          NaN     -90.0   \n",
       "212         57676  cupping Room Cafe  delivery.com          NaN     -90.0   \n",
       "\n",
       "     longitude country active  \n",
       "60         0.0      US  FALSE  \n",
       "64         0.0      US  FALSE  \n",
       "100        0.0      US  FALSE  \n",
       "201        0.0      US  FALSE  \n",
       "212        0.0      US  FALSE  "
      ]
     },
     "execution_count": 29,
     "metadata": {},
     "output_type": "execute_result"
    }
   ],
   "source": [
    "lat_90 = data[data['latitude'] == -90.000000]\n",
    "\n",
    "lat_90.head()"
   ]
  },
  {
   "cell_type": "code",
   "execution_count": 30,
   "metadata": {},
   "outputs": [
    {
     "data": {
      "text/plain": [
       "delivery.com    1.0\n",
       "Name: platform, dtype: float64"
      ]
     },
     "execution_count": 30,
     "metadata": {},
     "output_type": "execute_result"
    }
   ],
   "source": [
    "lat_90['platform'].value_counts(dropna = False, normalize = True)"
   ]
  },
  {
   "cell_type": "code",
   "execution_count": 31,
   "metadata": {},
   "outputs": [
    {
     "data": {
      "text/plain": [
       "FALSE    1.0\n",
       "Name: active, dtype: float64"
      ]
     },
     "execution_count": 31,
     "metadata": {},
     "output_type": "execute_result"
    }
   ],
   "source": [
    "lat_90['active'].value_counts(dropna = False, normalize = True)"
   ]
  },
  {
   "cell_type": "markdown",
   "metadata": {},
   "source": [
    "For all of the data points with a latitude value of -90, two interesting things the data points all have in common are:\n",
    "\n",
    "- All are considered \"inactive\"\n",
    "- All of these data points shared the platform delivery.com"
   ]
  },
  {
   "cell_type": "code",
   "execution_count": 32,
   "metadata": {},
   "outputs": [
    {
     "data": {
      "text/plain": [
       "doordash        354553\n",
       "postmates       110242\n",
       "grubhub          68579\n",
       "ubereats         65741\n",
       "delivery.com     34807\n",
       "caviar            9968\n",
       "Name: platform, dtype: int64"
      ]
     },
     "execution_count": 32,
     "metadata": {},
     "output_type": "execute_result"
    }
   ],
   "source": [
    "data['platform'].value_counts(dropna = False)"
   ]
  },
  {
   "cell_type": "markdown",
   "metadata": {},
   "source": [
    "Quickly checking that it's not an issue with all delivery.com data but just the ones found earlier."
   ]
  },
  {
   "cell_type": "code",
   "execution_count": 33,
   "metadata": {},
   "outputs": [
    {
     "data": {
      "text/html": [
       "<div>\n",
       "<style scoped>\n",
       "    .dataframe tbody tr th:only-of-type {\n",
       "        vertical-align: middle;\n",
       "    }\n",
       "\n",
       "    .dataframe tbody tr th {\n",
       "        vertical-align: top;\n",
       "    }\n",
       "\n",
       "    .dataframe thead th {\n",
       "        text-align: right;\n",
       "    }\n",
       "</style>\n",
       "<table border=\"1\" class=\"dataframe\">\n",
       "  <thead>\n",
       "    <tr style=\"text-align: right;\">\n",
       "      <th></th>\n",
       "      <th>restaurant_id</th>\n",
       "      <th>name</th>\n",
       "      <th>platform</th>\n",
       "      <th>sub_platform</th>\n",
       "      <th>latitude</th>\n",
       "      <th>longitude</th>\n",
       "      <th>country</th>\n",
       "      <th>active</th>\n",
       "    </tr>\n",
       "  </thead>\n",
       "  <tbody>\n",
       "    <tr>\n",
       "      <th>47</th>\n",
       "      <td>68986</td>\n",
       "      <td>Crown Fried Chicken</td>\n",
       "      <td>delivery.com</td>\n",
       "      <td>NaN</td>\n",
       "      <td>40.634279</td>\n",
       "      <td>-73.949846</td>\n",
       "      <td>US</td>\n",
       "      <td>FALSE</td>\n",
       "    </tr>\n",
       "    <tr>\n",
       "      <th>48</th>\n",
       "      <td>89239</td>\n",
       "      <td>Capri Ristorante</td>\n",
       "      <td>delivery.com</td>\n",
       "      <td>NaN</td>\n",
       "      <td>41.865140</td>\n",
       "      <td>-87.789410</td>\n",
       "      <td>US</td>\n",
       "      <td>TRUE</td>\n",
       "    </tr>\n",
       "    <tr>\n",
       "      <th>49</th>\n",
       "      <td>73694</td>\n",
       "      <td>Fin Sushi Bar</td>\n",
       "      <td>delivery.com</td>\n",
       "      <td>NaN</td>\n",
       "      <td>41.965212</td>\n",
       "      <td>-87.673360</td>\n",
       "      <td>US</td>\n",
       "      <td>TRUE</td>\n",
       "    </tr>\n",
       "    <tr>\n",
       "      <th>50</th>\n",
       "      <td>86326</td>\n",
       "      <td>Bon Chon - Harvard Square</td>\n",
       "      <td>delivery.com</td>\n",
       "      <td>NaN</td>\n",
       "      <td>42.371670</td>\n",
       "      <td>-71.121040</td>\n",
       "      <td>US</td>\n",
       "      <td>TRUE</td>\n",
       "    </tr>\n",
       "    <tr>\n",
       "      <th>51</th>\n",
       "      <td>68391</td>\n",
       "      <td>Pizza Man</td>\n",
       "      <td>delivery.com</td>\n",
       "      <td>NaN</td>\n",
       "      <td>33.931870</td>\n",
       "      <td>-117.949910</td>\n",
       "      <td>US</td>\n",
       "      <td>TRUE</td>\n",
       "    </tr>\n",
       "    <tr>\n",
       "      <th>...</th>\n",
       "      <td>...</td>\n",
       "      <td>...</td>\n",
       "      <td>...</td>\n",
       "      <td>...</td>\n",
       "      <td>...</td>\n",
       "      <td>...</td>\n",
       "      <td>...</td>\n",
       "      <td>...</td>\n",
       "    </tr>\n",
       "    <tr>\n",
       "      <th>44772</th>\n",
       "      <td>61696</td>\n",
       "      <td>Balade</td>\n",
       "      <td>delivery.com</td>\n",
       "      <td>NaN</td>\n",
       "      <td>40.730305</td>\n",
       "      <td>-73.983176</td>\n",
       "      <td>US</td>\n",
       "      <td>TRUE</td>\n",
       "    </tr>\n",
       "    <tr>\n",
       "      <th>44773</th>\n",
       "      <td>63702</td>\n",
       "      <td>Hello Pasta</td>\n",
       "      <td>delivery.com</td>\n",
       "      <td>NaN</td>\n",
       "      <td>40.759411</td>\n",
       "      <td>-73.970211</td>\n",
       "      <td>US</td>\n",
       "      <td>TRUE</td>\n",
       "    </tr>\n",
       "    <tr>\n",
       "      <th>44774</th>\n",
       "      <td>71933</td>\n",
       "      <td>Napoli Italian Restaurant By Papa Zack</td>\n",
       "      <td>delivery.com</td>\n",
       "      <td>NaN</td>\n",
       "      <td>29.731403</td>\n",
       "      <td>-95.475292</td>\n",
       "      <td>US</td>\n",
       "      <td>TRUE</td>\n",
       "    </tr>\n",
       "    <tr>\n",
       "      <th>44775</th>\n",
       "      <td>54099</td>\n",
       "      <td>Fatburger</td>\n",
       "      <td>delivery.com</td>\n",
       "      <td>NaN</td>\n",
       "      <td>30.621215</td>\n",
       "      <td>-96.342298</td>\n",
       "      <td>US</td>\n",
       "      <td>TRUE</td>\n",
       "    </tr>\n",
       "    <tr>\n",
       "      <th>44776</th>\n",
       "      <td>36134</td>\n",
       "      <td>Pita Grill</td>\n",
       "      <td>delivery.com</td>\n",
       "      <td>NaN</td>\n",
       "      <td>40.764990</td>\n",
       "      <td>-73.987687</td>\n",
       "      <td>US</td>\n",
       "      <td>TRUE</td>\n",
       "    </tr>\n",
       "  </tbody>\n",
       "</table>\n",
       "<p>34807 rows × 8 columns</p>\n",
       "</div>"
      ],
      "text/plain": [
       "      restaurant_id                                    name      platform  \\\n",
       "47            68986                     Crown Fried Chicken  delivery.com   \n",
       "48            89239                        Capri Ristorante  delivery.com   \n",
       "49            73694                           Fin Sushi Bar  delivery.com   \n",
       "50            86326               Bon Chon - Harvard Square  delivery.com   \n",
       "51            68391                               Pizza Man  delivery.com   \n",
       "...             ...                                     ...           ...   \n",
       "44772         61696                                  Balade  delivery.com   \n",
       "44773         63702                             Hello Pasta  delivery.com   \n",
       "44774         71933  Napoli Italian Restaurant By Papa Zack  delivery.com   \n",
       "44775         54099                               Fatburger  delivery.com   \n",
       "44776         36134                              Pita Grill  delivery.com   \n",
       "\n",
       "      sub_platform   latitude   longitude country active  \n",
       "47             NaN  40.634279  -73.949846      US  FALSE  \n",
       "48             NaN  41.865140  -87.789410      US   TRUE  \n",
       "49             NaN  41.965212  -87.673360      US   TRUE  \n",
       "50             NaN  42.371670  -71.121040      US   TRUE  \n",
       "51             NaN  33.931870 -117.949910      US   TRUE  \n",
       "...            ...        ...         ...     ...    ...  \n",
       "44772          NaN  40.730305  -73.983176      US   TRUE  \n",
       "44773          NaN  40.759411  -73.970211      US   TRUE  \n",
       "44774          NaN  29.731403  -95.475292      US   TRUE  \n",
       "44775          NaN  30.621215  -96.342298      US   TRUE  \n",
       "44776          NaN  40.764990  -73.987687      US   TRUE  \n",
       "\n",
       "[34807 rows x 8 columns]"
      ]
     },
     "execution_count": 33,
     "metadata": {},
     "output_type": "execute_result"
    }
   ],
   "source": [
    "data[data['platform'] == 'delivery.com']"
   ]
  },
  {
   "cell_type": "code",
   "execution_count": 34,
   "metadata": {},
   "outputs": [
    {
     "name": "stdout",
     "output_type": "stream",
     "text": [
      "<class 'pandas.core.frame.DataFrame'>\n",
      "Int64Index: 643890 entries, 0 to 644069\n",
      "Data columns (total 8 columns):\n",
      " #   Column         Non-Null Count   Dtype  \n",
      "---  ------         --------------   -----  \n",
      " 0   restaurant_id  643890 non-null  object \n",
      " 1   name           643890 non-null  object \n",
      " 2   platform       643890 non-null  object \n",
      " 3   sub_platform   599115 non-null  object \n",
      " 4   latitude       643890 non-null  float64\n",
      " 5   longitude      643890 non-null  float64\n",
      " 6   country        643890 non-null  object \n",
      " 7   active         643694 non-null  object \n",
      "dtypes: float64(2), object(6)\n",
      "memory usage: 64.2+ MB\n"
     ]
    }
   ],
   "source": [
    "data.info()"
   ]
  },
  {
   "cell_type": "markdown",
   "metadata": {},
   "source": [
    "## Creating My Target Column"
   ]
  },
  {
   "cell_type": "code",
   "execution_count": 35,
   "metadata": {},
   "outputs": [],
   "source": [
    "# data['duplicate'] = data.duplicated(subset = ['latitude','longitude'], keep = False) \n",
    "\n",
    "# # keep = False labels everything that was duplicated as True (there's a duplicate of it in the data set)\n",
    "# # creating another column is possible with keep = first if you want to leave the first duplicate labeled as an original just for a simple aggregation\n",
    "\n",
    "# print(data['duplicate'].head())"
   ]
  }
 ],
 "metadata": {
  "kernelspec": {
   "display_name": "Python 3",
   "language": "python",
   "name": "python3"
  },
  "language_info": {
   "codemirror_mode": {
    "name": "ipython",
    "version": 3
   },
   "file_extension": ".py",
   "mimetype": "text/x-python",
   "name": "python",
   "nbconvert_exporter": "python",
   "pygments_lexer": "ipython3",
   "version": "3.7.6"
  }
 },
 "nbformat": 4,
 "nbformat_minor": 4
}
